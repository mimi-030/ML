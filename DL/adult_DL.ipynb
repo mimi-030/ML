{
  "nbformat": 4,
  "nbformat_minor": 0,
  "metadata": {
    "colab": {
      "provenance": []
    },
    "kernelspec": {
      "name": "python3",
      "display_name": "Python 3"
    },
    "language_info": {
      "name": "python"
    },
    "accelerator": "GPU",
    "gpuClass": "standard"
  },
  "cells": [
    {
      "cell_type": "code",
      "source": [
        "from google.colab import drive\n",
        "drive.mount('/content/drive')"
      ],
      "metadata": {
        "colab": {
          "base_uri": "https://localhost:8080/"
        },
        "id": "lpn4o_VELArd",
        "outputId": "c557e4e6-826b-4762-84e8-982e80c5fbf6"
      },
      "execution_count": null,
      "outputs": [
        {
          "output_type": "stream",
          "name": "stdout",
          "text": [
            "Mounted at /content/drive\n"
          ]
        }
      ]
    },
    {
      "cell_type": "code",
      "source": [
        "%cd drive/MyDrive/Colab Notebooks/adult"
      ],
      "metadata": {
        "colab": {
          "base_uri": "https://localhost:8080/"
        },
        "id": "sdL-ONchLGX5",
        "outputId": "4d180d46-0ddc-4bc4-ddab-3811550edfe8"
      },
      "execution_count": null,
      "outputs": [
        {
          "output_type": "stream",
          "name": "stdout",
          "text": [
            "/content/drive/MyDrive/Colab Notebooks/adult\n"
          ]
        }
      ]
    },
    {
      "cell_type": "code",
      "execution_count": null,
      "metadata": {
        "id": "_EPqkfBE_NBk"
      },
      "outputs": [],
      "source": [
        "import pandas as pd\n",
        "import numpy as np\n",
        "import matplotlib.pyplot as plt\n",
        "import seaborn as sns\n",
        "\n",
        "%matplotlib inline\n",
        "sns.set_style('darkgrid')\n",
        "\n",
        "from sklearn.preprocessing import OneHotEncoder,MinMaxScaler,StandardScaler\n",
        "from sklearn.model_selection import train_test_split,GridSearchCV\n",
        "from sklearn.svm import SVC\n",
        "from sklearn.linear_model import LogisticRegression,LogisticRegressionCV,SGDClassifier\n",
        "from sklearn.ensemble import RandomForestClassifier\n",
        "\n",
        "from sklearn.compose import ColumnTransformer\n",
        "from sklearn.pipeline import Pipeline\n",
        "\n",
        "from sklearn.metrics import classification_report\n",
        "\n",
        "from pandas_profiling import ProfileReport"
      ]
    },
    {
      "cell_type": "code",
      "source": [
        "df = pd.read_csv('adult.data', na_values=[' ?'], index_col = False, sep=',', names = ['age','workclass','fnlwght', 'education', 'education_num','marital_status','occupation','relationship','race','sex','capital-gain','capital-loss','hours-per-week','native-country','income'])"
      ],
      "metadata": {
        "id": "Jhwia4WJK5a-"
      },
      "execution_count": null,
      "outputs": []
    },
    {
      "cell_type": "code",
      "source": [
        "df['workclass'].unique()"
      ],
      "metadata": {
        "colab": {
          "base_uri": "https://localhost:8080/"
        },
        "id": "yUNvcra9LTT1",
        "outputId": "2c368358-bd7d-4067-d7c8-9b9db3398aff"
      },
      "execution_count": null,
      "outputs": [
        {
          "output_type": "execute_result",
          "data": {
            "text/plain": [
              "array([' State-gov', ' Self-emp-not-inc', ' Private', ' Federal-gov',\n",
              "       ' Local-gov', nan, ' Self-emp-inc', ' Without-pay',\n",
              "       ' Never-worked'], dtype=object)"
            ]
          },
          "metadata": {},
          "execution_count": 14
        }
      ]
    },
    {
      "cell_type": "code",
      "source": [
        "df"
      ],
      "metadata": {
        "colab": {
          "base_uri": "https://localhost:8080/",
          "height": 676
        },
        "id": "OzSlfTvuLUxX",
        "outputId": "3b0144e1-37a4-4469-dd78-4d8ac71119b4"
      },
      "execution_count": null,
      "outputs": [
        {
          "output_type": "execute_result",
          "data": {
            "text/plain": [
              "       age          workclass  fnlwght    education  education_num  \\\n",
              "0       39          State-gov    77516    Bachelors             13   \n",
              "1       50   Self-emp-not-inc    83311    Bachelors             13   \n",
              "2       38            Private   215646      HS-grad              9   \n",
              "3       53            Private   234721         11th              7   \n",
              "4       28            Private   338409    Bachelors             13   \n",
              "...    ...                ...      ...          ...            ...   \n",
              "32556   27            Private   257302   Assoc-acdm             12   \n",
              "32557   40            Private   154374      HS-grad              9   \n",
              "32558   58            Private   151910      HS-grad              9   \n",
              "32559   22            Private   201490      HS-grad              9   \n",
              "32560   52       Self-emp-inc   287927      HS-grad              9   \n",
              "\n",
              "            marital_status          occupation    relationship    race  \\\n",
              "0            Never-married        Adm-clerical   Not-in-family   White   \n",
              "1       Married-civ-spouse     Exec-managerial         Husband   White   \n",
              "2                 Divorced   Handlers-cleaners   Not-in-family   White   \n",
              "3       Married-civ-spouse   Handlers-cleaners         Husband   Black   \n",
              "4       Married-civ-spouse      Prof-specialty            Wife   Black   \n",
              "...                    ...                 ...             ...     ...   \n",
              "32556   Married-civ-spouse        Tech-support            Wife   White   \n",
              "32557   Married-civ-spouse   Machine-op-inspct         Husband   White   \n",
              "32558              Widowed        Adm-clerical       Unmarried   White   \n",
              "32559        Never-married        Adm-clerical       Own-child   White   \n",
              "32560   Married-civ-spouse     Exec-managerial            Wife   White   \n",
              "\n",
              "           sex  capital-gain  capital-loss  hours-per-week  native-country  \\\n",
              "0         Male          2174             0              40   United-States   \n",
              "1         Male             0             0              13   United-States   \n",
              "2         Male             0             0              40   United-States   \n",
              "3         Male             0             0              40   United-States   \n",
              "4       Female             0             0              40            Cuba   \n",
              "...        ...           ...           ...             ...             ...   \n",
              "32556   Female             0             0              38   United-States   \n",
              "32557     Male             0             0              40   United-States   \n",
              "32558   Female             0             0              40   United-States   \n",
              "32559     Male             0             0              20   United-States   \n",
              "32560   Female         15024             0              40   United-States   \n",
              "\n",
              "       income  \n",
              "0       <=50K  \n",
              "1       <=50K  \n",
              "2       <=50K  \n",
              "3       <=50K  \n",
              "4       <=50K  \n",
              "...       ...  \n",
              "32556   <=50K  \n",
              "32557    >50K  \n",
              "32558   <=50K  \n",
              "32559   <=50K  \n",
              "32560    >50K  \n",
              "\n",
              "[32561 rows x 15 columns]"
            ],
            "text/html": [
              "\n",
              "  <div id=\"df-54733af1-c755-4239-b933-e35d9900baad\">\n",
              "    <div class=\"colab-df-container\">\n",
              "      <div>\n",
              "<style scoped>\n",
              "    .dataframe tbody tr th:only-of-type {\n",
              "        vertical-align: middle;\n",
              "    }\n",
              "\n",
              "    .dataframe tbody tr th {\n",
              "        vertical-align: top;\n",
              "    }\n",
              "\n",
              "    .dataframe thead th {\n",
              "        text-align: right;\n",
              "    }\n",
              "</style>\n",
              "<table border=\"1\" class=\"dataframe\">\n",
              "  <thead>\n",
              "    <tr style=\"text-align: right;\">\n",
              "      <th></th>\n",
              "      <th>age</th>\n",
              "      <th>workclass</th>\n",
              "      <th>fnlwght</th>\n",
              "      <th>education</th>\n",
              "      <th>education_num</th>\n",
              "      <th>marital_status</th>\n",
              "      <th>occupation</th>\n",
              "      <th>relationship</th>\n",
              "      <th>race</th>\n",
              "      <th>sex</th>\n",
              "      <th>capital-gain</th>\n",
              "      <th>capital-loss</th>\n",
              "      <th>hours-per-week</th>\n",
              "      <th>native-country</th>\n",
              "      <th>income</th>\n",
              "    </tr>\n",
              "  </thead>\n",
              "  <tbody>\n",
              "    <tr>\n",
              "      <th>0</th>\n",
              "      <td>39</td>\n",
              "      <td>State-gov</td>\n",
              "      <td>77516</td>\n",
              "      <td>Bachelors</td>\n",
              "      <td>13</td>\n",
              "      <td>Never-married</td>\n",
              "      <td>Adm-clerical</td>\n",
              "      <td>Not-in-family</td>\n",
              "      <td>White</td>\n",
              "      <td>Male</td>\n",
              "      <td>2174</td>\n",
              "      <td>0</td>\n",
              "      <td>40</td>\n",
              "      <td>United-States</td>\n",
              "      <td>&lt;=50K</td>\n",
              "    </tr>\n",
              "    <tr>\n",
              "      <th>1</th>\n",
              "      <td>50</td>\n",
              "      <td>Self-emp-not-inc</td>\n",
              "      <td>83311</td>\n",
              "      <td>Bachelors</td>\n",
              "      <td>13</td>\n",
              "      <td>Married-civ-spouse</td>\n",
              "      <td>Exec-managerial</td>\n",
              "      <td>Husband</td>\n",
              "      <td>White</td>\n",
              "      <td>Male</td>\n",
              "      <td>0</td>\n",
              "      <td>0</td>\n",
              "      <td>13</td>\n",
              "      <td>United-States</td>\n",
              "      <td>&lt;=50K</td>\n",
              "    </tr>\n",
              "    <tr>\n",
              "      <th>2</th>\n",
              "      <td>38</td>\n",
              "      <td>Private</td>\n",
              "      <td>215646</td>\n",
              "      <td>HS-grad</td>\n",
              "      <td>9</td>\n",
              "      <td>Divorced</td>\n",
              "      <td>Handlers-cleaners</td>\n",
              "      <td>Not-in-family</td>\n",
              "      <td>White</td>\n",
              "      <td>Male</td>\n",
              "      <td>0</td>\n",
              "      <td>0</td>\n",
              "      <td>40</td>\n",
              "      <td>United-States</td>\n",
              "      <td>&lt;=50K</td>\n",
              "    </tr>\n",
              "    <tr>\n",
              "      <th>3</th>\n",
              "      <td>53</td>\n",
              "      <td>Private</td>\n",
              "      <td>234721</td>\n",
              "      <td>11th</td>\n",
              "      <td>7</td>\n",
              "      <td>Married-civ-spouse</td>\n",
              "      <td>Handlers-cleaners</td>\n",
              "      <td>Husband</td>\n",
              "      <td>Black</td>\n",
              "      <td>Male</td>\n",
              "      <td>0</td>\n",
              "      <td>0</td>\n",
              "      <td>40</td>\n",
              "      <td>United-States</td>\n",
              "      <td>&lt;=50K</td>\n",
              "    </tr>\n",
              "    <tr>\n",
              "      <th>4</th>\n",
              "      <td>28</td>\n",
              "      <td>Private</td>\n",
              "      <td>338409</td>\n",
              "      <td>Bachelors</td>\n",
              "      <td>13</td>\n",
              "      <td>Married-civ-spouse</td>\n",
              "      <td>Prof-specialty</td>\n",
              "      <td>Wife</td>\n",
              "      <td>Black</td>\n",
              "      <td>Female</td>\n",
              "      <td>0</td>\n",
              "      <td>0</td>\n",
              "      <td>40</td>\n",
              "      <td>Cuba</td>\n",
              "      <td>&lt;=50K</td>\n",
              "    </tr>\n",
              "    <tr>\n",
              "      <th>...</th>\n",
              "      <td>...</td>\n",
              "      <td>...</td>\n",
              "      <td>...</td>\n",
              "      <td>...</td>\n",
              "      <td>...</td>\n",
              "      <td>...</td>\n",
              "      <td>...</td>\n",
              "      <td>...</td>\n",
              "      <td>...</td>\n",
              "      <td>...</td>\n",
              "      <td>...</td>\n",
              "      <td>...</td>\n",
              "      <td>...</td>\n",
              "      <td>...</td>\n",
              "      <td>...</td>\n",
              "    </tr>\n",
              "    <tr>\n",
              "      <th>32556</th>\n",
              "      <td>27</td>\n",
              "      <td>Private</td>\n",
              "      <td>257302</td>\n",
              "      <td>Assoc-acdm</td>\n",
              "      <td>12</td>\n",
              "      <td>Married-civ-spouse</td>\n",
              "      <td>Tech-support</td>\n",
              "      <td>Wife</td>\n",
              "      <td>White</td>\n",
              "      <td>Female</td>\n",
              "      <td>0</td>\n",
              "      <td>0</td>\n",
              "      <td>38</td>\n",
              "      <td>United-States</td>\n",
              "      <td>&lt;=50K</td>\n",
              "    </tr>\n",
              "    <tr>\n",
              "      <th>32557</th>\n",
              "      <td>40</td>\n",
              "      <td>Private</td>\n",
              "      <td>154374</td>\n",
              "      <td>HS-grad</td>\n",
              "      <td>9</td>\n",
              "      <td>Married-civ-spouse</td>\n",
              "      <td>Machine-op-inspct</td>\n",
              "      <td>Husband</td>\n",
              "      <td>White</td>\n",
              "      <td>Male</td>\n",
              "      <td>0</td>\n",
              "      <td>0</td>\n",
              "      <td>40</td>\n",
              "      <td>United-States</td>\n",
              "      <td>&gt;50K</td>\n",
              "    </tr>\n",
              "    <tr>\n",
              "      <th>32558</th>\n",
              "      <td>58</td>\n",
              "      <td>Private</td>\n",
              "      <td>151910</td>\n",
              "      <td>HS-grad</td>\n",
              "      <td>9</td>\n",
              "      <td>Widowed</td>\n",
              "      <td>Adm-clerical</td>\n",
              "      <td>Unmarried</td>\n",
              "      <td>White</td>\n",
              "      <td>Female</td>\n",
              "      <td>0</td>\n",
              "      <td>0</td>\n",
              "      <td>40</td>\n",
              "      <td>United-States</td>\n",
              "      <td>&lt;=50K</td>\n",
              "    </tr>\n",
              "    <tr>\n",
              "      <th>32559</th>\n",
              "      <td>22</td>\n",
              "      <td>Private</td>\n",
              "      <td>201490</td>\n",
              "      <td>HS-grad</td>\n",
              "      <td>9</td>\n",
              "      <td>Never-married</td>\n",
              "      <td>Adm-clerical</td>\n",
              "      <td>Own-child</td>\n",
              "      <td>White</td>\n",
              "      <td>Male</td>\n",
              "      <td>0</td>\n",
              "      <td>0</td>\n",
              "      <td>20</td>\n",
              "      <td>United-States</td>\n",
              "      <td>&lt;=50K</td>\n",
              "    </tr>\n",
              "    <tr>\n",
              "      <th>32560</th>\n",
              "      <td>52</td>\n",
              "      <td>Self-emp-inc</td>\n",
              "      <td>287927</td>\n",
              "      <td>HS-grad</td>\n",
              "      <td>9</td>\n",
              "      <td>Married-civ-spouse</td>\n",
              "      <td>Exec-managerial</td>\n",
              "      <td>Wife</td>\n",
              "      <td>White</td>\n",
              "      <td>Female</td>\n",
              "      <td>15024</td>\n",
              "      <td>0</td>\n",
              "      <td>40</td>\n",
              "      <td>United-States</td>\n",
              "      <td>&gt;50K</td>\n",
              "    </tr>\n",
              "  </tbody>\n",
              "</table>\n",
              "<p>32561 rows × 15 columns</p>\n",
              "</div>\n",
              "      <button class=\"colab-df-convert\" onclick=\"convertToInteractive('df-54733af1-c755-4239-b933-e35d9900baad')\"\n",
              "              title=\"Convert this dataframe to an interactive table.\"\n",
              "              style=\"display:none;\">\n",
              "        \n",
              "  <svg xmlns=\"http://www.w3.org/2000/svg\" height=\"24px\"viewBox=\"0 0 24 24\"\n",
              "       width=\"24px\">\n",
              "    <path d=\"M0 0h24v24H0V0z\" fill=\"none\"/>\n",
              "    <path d=\"M18.56 5.44l.94 2.06.94-2.06 2.06-.94-2.06-.94-.94-2.06-.94 2.06-2.06.94zm-11 1L8.5 8.5l.94-2.06 2.06-.94-2.06-.94L8.5 2.5l-.94 2.06-2.06.94zm10 10l.94 2.06.94-2.06 2.06-.94-2.06-.94-.94-2.06-.94 2.06-2.06.94z\"/><path d=\"M17.41 7.96l-1.37-1.37c-.4-.4-.92-.59-1.43-.59-.52 0-1.04.2-1.43.59L10.3 9.45l-7.72 7.72c-.78.78-.78 2.05 0 2.83L4 21.41c.39.39.9.59 1.41.59.51 0 1.02-.2 1.41-.59l7.78-7.78 2.81-2.81c.8-.78.8-2.07 0-2.86zM5.41 20L4 18.59l7.72-7.72 1.47 1.35L5.41 20z\"/>\n",
              "  </svg>\n",
              "      </button>\n",
              "      \n",
              "  <style>\n",
              "    .colab-df-container {\n",
              "      display:flex;\n",
              "      flex-wrap:wrap;\n",
              "      gap: 12px;\n",
              "    }\n",
              "\n",
              "    .colab-df-convert {\n",
              "      background-color: #E8F0FE;\n",
              "      border: none;\n",
              "      border-radius: 50%;\n",
              "      cursor: pointer;\n",
              "      display: none;\n",
              "      fill: #1967D2;\n",
              "      height: 32px;\n",
              "      padding: 0 0 0 0;\n",
              "      width: 32px;\n",
              "    }\n",
              "\n",
              "    .colab-df-convert:hover {\n",
              "      background-color: #E2EBFA;\n",
              "      box-shadow: 0px 1px 2px rgba(60, 64, 67, 0.3), 0px 1px 3px 1px rgba(60, 64, 67, 0.15);\n",
              "      fill: #174EA6;\n",
              "    }\n",
              "\n",
              "    [theme=dark] .colab-df-convert {\n",
              "      background-color: #3B4455;\n",
              "      fill: #D2E3FC;\n",
              "    }\n",
              "\n",
              "    [theme=dark] .colab-df-convert:hover {\n",
              "      background-color: #434B5C;\n",
              "      box-shadow: 0px 1px 3px 1px rgba(0, 0, 0, 0.15);\n",
              "      filter: drop-shadow(0px 1px 2px rgba(0, 0, 0, 0.3));\n",
              "      fill: #FFFFFF;\n",
              "    }\n",
              "  </style>\n",
              "\n",
              "      <script>\n",
              "        const buttonEl =\n",
              "          document.querySelector('#df-54733af1-c755-4239-b933-e35d9900baad button.colab-df-convert');\n",
              "        buttonEl.style.display =\n",
              "          google.colab.kernel.accessAllowed ? 'block' : 'none';\n",
              "\n",
              "        async function convertToInteractive(key) {\n",
              "          const element = document.querySelector('#df-54733af1-c755-4239-b933-e35d9900baad');\n",
              "          const dataTable =\n",
              "            await google.colab.kernel.invokeFunction('convertToInteractive',\n",
              "                                                     [key], {});\n",
              "          if (!dataTable) return;\n",
              "\n",
              "          const docLinkHtml = 'Like what you see? Visit the ' +\n",
              "            '<a target=\"_blank\" href=https://colab.research.google.com/notebooks/data_table.ipynb>data table notebook</a>'\n",
              "            + ' to learn more about interactive tables.';\n",
              "          element.innerHTML = '';\n",
              "          dataTable['output_type'] = 'display_data';\n",
              "          await google.colab.output.renderOutput(dataTable, element);\n",
              "          const docLink = document.createElement('div');\n",
              "          docLink.innerHTML = docLinkHtml;\n",
              "          element.appendChild(docLink);\n",
              "        }\n",
              "      </script>\n",
              "    </div>\n",
              "  </div>\n",
              "  "
            ]
          },
          "metadata": {},
          "execution_count": 15
        }
      ]
    },
    {
      "cell_type": "code",
      "source": [
        "plt.figure(figsize=(10,10))\n",
        "sns.heatmap(df.isna()) # show null values, white lines mean null values\n",
        "plt.show()"
      ],
      "metadata": {
        "colab": {
          "base_uri": "https://localhost:8080/",
          "height": 664
        },
        "id": "Zznp8XonL6EB",
        "outputId": "948e4d1a-55b3-4618-b3e6-0e18e1bc641a"
      },
      "execution_count": null,
      "outputs": [
        {
          "output_type": "display_data",
          "data": {
            "text/plain": [
              "<Figure size 720x720 with 2 Axes>"
            ],
            "image/png": "[encoded data removed]"
          },
          "metadata": {}
        }
      ]
    },
    {
      "cell_type": "markdown",
      "source": [
        "# Null Removal"
      ],
      "metadata": {
        "id": "Ly24ad3cMSfU"
      }
    },
    {
      "cell_type": "code",
      "source": [
        "df=df.dropna() # remove all null values"
      ],
      "metadata": {
        "id": "hFtF17f6L-YZ"
      },
      "execution_count": null,
      "outputs": []
    },
    {
      "cell_type": "code",
      "source": [
        "plt.figure(figsize=(10,10))\n",
        "sns.heatmap(df.isna())"
      ],
      "metadata": {
        "colab": {
          "base_uri": "https://localhost:8080/",
          "height": 682
        },
        "id": "IMJbdMb0MVVh",
        "outputId": "7ed83f8b-cf99-4a78-eef2-fc7afd4a23c9"
      },
      "execution_count": null,
      "outputs": [
        {
          "output_type": "execute_result",
          "data": {
            "text/plain": [
              "<matplotlib.axes._subplots.AxesSubplot at 0x7fbdaa4774d0>"
            ]
          },
          "metadata": {},
          "execution_count": 22
        },
        {
          "output_type": "display_data",
          "data": {
            "text/plain": [
              "<Figure size 720x720 with 2 Axes>"
            ],
            "image/png": "[encoded data removed]"
          },
          "metadata": {}
        }
      ]
    },
    {
      "cell_type": "markdown",
      "source": [
        "# Train test split"
      ],
      "metadata": {
        "id": "A94tCyqeMbqj"
      }
    },
    {
      "cell_type": "code",
      "source": [
        "X=df.drop(['income'],axis=1)\n",
        "y=df[['income']]"
      ],
      "metadata": {
        "id": "MgtdgxM8MXFx"
      },
      "execution_count": null,
      "outputs": []
    },
    {
      "cell_type": "code",
      "source": [
        "x_train,x_test,y_train,y_test=train_test_split(X,y,test_size=0.15,random_state=42) # split dataset into training and testing set\n",
        "x_train,x_val,y_train,y_val=train_test_split(x_train,y_train,test_size=0.15,random_state=42) # split training set into training set and validation set"
      ],
      "metadata": {
        "id": "1CCZi9DmMdhj"
      },
      "execution_count": null,
      "outputs": []
    },
    {
      "cell_type": "code",
      "source": [
        "(x_train.shape,x_val.shape,x_test.shape) # training set, validation set, testing set"
      ],
      "metadata": {
        "colab": {
          "base_uri": "https://localhost:8080/"
        },
        "id": "LjLFNS7vMkQP",
        "outputId": "08f1bb98-1300-4f57-f1fb-213524759aba"
      },
      "execution_count": null,
      "outputs": [
        {
          "output_type": "execute_result",
          "data": {
            "text/plain": [
              "((21791, 14), (3846, 14), (4525, 14))"
            ]
          },
          "metadata": {},
          "execution_count": 172
        }
      ]
    },
    {
      "cell_type": "markdown",
      "source": [
        "# Data Preprocessing"
      ],
      "metadata": {
        "id": "llgQCHUnMxPy"
      }
    },
    {
      "cell_type": "code",
      "source": [
        "# transfom categorical columns into numerical values using one-hot-encoding method\n",
        "oh=ColumnTransformer([\n",
        "    ('encoder',OneHotEncoder(drop='first',sparse=False),\n",
        "     ['workclass', 'education', 'marital_status', 'occupation',\n",
        "       'relationship', 'race', 'sex', 'native-country'])\n",
        "],remainder='passthrough')\n",
        "\n",
        "# pipeline: connect multiple processing methods into single pipeline, in our case, one hot encoding and standard scaler\n",
        "pipeline=Pipeline([\n",
        "    ('encoder',oh),\n",
        "    ('scaler',StandardScaler())\n",
        "])"
      ],
      "metadata": {
        "id": "Oyi1UfrJMlvu"
      },
      "execution_count": null,
      "outputs": []
    },
    {
      "cell_type": "code",
      "source": [
        "x_train=pipeline.fit_transform(x_train)\n",
        "x_test=pipeline.transform(x_test)\n",
        "x_val=pipeline.transform(x_val)"
      ],
      "metadata": {
        "id": "WI5uzHaOM2EN"
      },
      "execution_count": null,
      "outputs": []
    },
    {
      "cell_type": "code",
      "source": [
        "(x_train.shape,x_val.shape,x_test.shape)"
      ],
      "metadata": {
        "colab": {
          "base_uri": "https://localhost:8080/"
        },
        "id": "lFK7rOcBM6YM",
        "outputId": "a23ea98a-5d42-4b9b-c5d7-fdcab8d46dbd"
      },
      "execution_count": null,
      "outputs": [
        {
          "output_type": "execute_result",
          "data": {
            "text/plain": [
              "((21791, 96), (3846, 96), (4525, 96))"
            ]
          },
          "metadata": {},
          "execution_count": 175
        }
      ]
    },
    {
      "cell_type": "code",
      "source": [
        "o1=OneHotEncoder(sparse=False)\n",
        "y_train=o1.fit_transform(y_train)\n",
        "y_val=o1.transform(y_val)\n",
        "y_test=o1.transform(y_test)"
      ],
      "metadata": {
        "id": "wbqv0Lr_NI0F"
      },
      "execution_count": null,
      "outputs": []
    },
    {
      "cell_type": "code",
      "source": [
        "from tensorflow.keras.models import Sequential\n",
        "from tensorflow.keras.layers import Dense,Dropout,BatchNormalization,Input, Conv1D, MaxPool1D, Flatten, LSTM\n",
        "from tensorflow.keras.callbacks import EarlyStopping\n",
        "from tensorflow import expand_dims\n",
        "\n",
        "e=EarlyStopping(patience=5,restore_best_weights=True)\n",
        "num_layers_mult=2\n",
        "\n",
        "n=num_layers_mult"
      ],
      "metadata": {
        "id": "tpY-0FhfNdV5"
      },
      "execution_count": null,
      "outputs": []
    },
    {
      "cell_type": "markdown",
      "source": [
        "# First model, DNN with 3 hidden layers"
      ],
      "metadata": {
        "id": "gb53x0q-RZun"
      }
    },
    {
      "cell_type": "code",
      "source": [
        "model=Sequential()\n",
        "\n",
        "model.add(Input(shape=(x_train.shape[1],)))\n",
        "\n",
        "model.add(Dense(x_train.shape[1],activation='relu'))#,input_shape=(x_train.shape[1],)))\n",
        "model.add(Dropout(0.25))\n",
        "model.add(Dense(n*x_train.shape[1],activation='relu'))\n",
        "model.add(Dropout(0.5))\n",
        "model.add(Dense(n*x_train.shape[1],activation='relu'))\n",
        "\n",
        "model.add(Dense(2,activation='softmax'))\n",
        "\n",
        "\n",
        "model.compile(loss='categorical_crossentropy',metrics=['accuracy'],optimizer='adam')"
      ],
      "metadata": {
        "id": "xa3raiNdNjuS"
      },
      "execution_count": null,
      "outputs": []
    },
    {
      "cell_type": "code",
      "source": [
        "model.summary()"
      ],
      "metadata": {
        "colab": {
          "base_uri": "https://localhost:8080/"
        },
        "id": "7r2sNZycNo1w",
        "outputId": "8291e294-068f-4ba2-e789-6853670dd154"
      },
      "execution_count": null,
      "outputs": [
        {
          "output_type": "stream",
          "name": "stdout",
          "text": [
            "Model: \"sequential\"\n",
            "_________________________________________________________________\n",
            " Layer (type)                Output Shape              Param #   \n",
            "=================================================================\n",
            " dense (Dense)               (None, 96)                9312      \n",
            "                                                                 \n",
            " dropout (Dropout)           (None, 96)                0         \n",
            "                                                                 \n",
            " dense_1 (Dense)             (None, 192)               18624     \n",
            "                                                                 \n",
            " dropout_1 (Dropout)         (None, 192)               0         \n",
            "                                                                 \n",
            " dense_2 (Dense)             (None, 192)               37056     \n",
            "                                                                 \n",
            " dense_3 (Dense)             (None, 2)                 386       \n",
            "                                                                 \n",
            "=================================================================\n",
            "Total params: 65,378\n",
            "Trainable params: 65,378\n",
            "Non-trainable params: 0\n",
            "_________________________________________________________________\n"
          ]
        }
      ]
    },
    {
      "cell_type": "code",
      "source": [
        "results=model.fit(x_train,y_train,validation_data=(x_val,y_val),callbacks=[e],epochs=100)"
      ],
      "metadata": {
        "colab": {
          "base_uri": "https://localhost:8080/"
        },
        "id": "Adl5rLkONrH4",
        "outputId": "8b0c531a-a899-4ab0-ed92-f00527b5737a"
      },
      "execution_count": null,
      "outputs": [
        {
          "output_type": "stream",
          "name": "stdout",
          "text": [
            "Epoch 1/100\n",
            "681/681 [==============================] - 5s 4ms/step - loss: 0.3951 - accuracy: 0.8162 - val_loss: 0.3382 - val_accuracy: 0.8450\n",
            "Epoch 2/100\n",
            "681/681 [==============================] - 2s 3ms/step - loss: 0.3478 - accuracy: 0.8395 - val_loss: 0.3345 - val_accuracy: 0.8489\n",
            "Epoch 3/100\n",
            "681/681 [==============================] - 2s 3ms/step - loss: 0.3352 - accuracy: 0.8465 - val_loss: 0.3226 - val_accuracy: 0.8487\n",
            "Epoch 4/100\n",
            "681/681 [==============================] - 2s 3ms/step - loss: 0.3280 - accuracy: 0.8504 - val_loss: 0.3245 - val_accuracy: 0.8484\n",
            "Epoch 5/100\n",
            "681/681 [==============================] - 2s 3ms/step - loss: 0.3236 - accuracy: 0.8518 - val_loss: 0.3195 - val_accuracy: 0.8510\n",
            "Epoch 6/100\n",
            "681/681 [==============================] - 2s 3ms/step - loss: 0.3200 - accuracy: 0.8526 - val_loss: 0.3237 - val_accuracy: 0.8528\n",
            "Epoch 7/100\n",
            "681/681 [==============================] - 2s 3ms/step - loss: 0.3151 - accuracy: 0.8548 - val_loss: 0.3240 - val_accuracy: 0.8476\n",
            "Epoch 8/100\n",
            "681/681 [==============================] - 2s 3ms/step - loss: 0.3146 - accuracy: 0.8523 - val_loss: 0.3253 - val_accuracy: 0.8484\n",
            "Epoch 9/100\n",
            "681/681 [==============================] - 2s 3ms/step - loss: 0.3117 - accuracy: 0.8562 - val_loss: 0.3222 - val_accuracy: 0.8513\n",
            "Epoch 10/100\n",
            "681/681 [==============================] - 2s 3ms/step - loss: 0.3103 - accuracy: 0.8563 - val_loss: 0.3224 - val_accuracy: 0.8497\n"
          ]
        }
      ]
    },
    {
      "cell_type": "code",
      "source": [
        "model.evaluate(x_test,y_test)"
      ],
      "metadata": {
        "colab": {
          "base_uri": "https://localhost:8080/"
        },
        "id": "VxKmq_7nNvgC",
        "outputId": "0485ff5f-462a-44af-e301-e4fea0b3a57a"
      },
      "execution_count": null,
      "outputs": [
        {
          "output_type": "stream",
          "name": "stdout",
          "text": [
            "142/142 [==============================] - 0s 2ms/step - loss: 0.3197 - accuracy: 0.8519\n"
          ]
        },
        {
          "output_type": "execute_result",
          "data": {
            "text/plain": [
              "[0.31967249512672424, 0.8519337177276611]"
            ]
          },
          "metadata": {},
          "execution_count": 38
        }
      ]
    },
    {
      "cell_type": "code",
      "source": [
        "pred1=np.argmax(model.predict(x_test), axis=-1)\n",
        "pred1"
      ],
      "metadata": {
        "colab": {
          "base_uri": "https://localhost:8080/"
        },
        "id": "bzMaidMqN3Wn",
        "outputId": "fba4b0af-e212-4a8a-84b8-3394c839b56f"
      },
      "execution_count": null,
      "outputs": [
        {
          "output_type": "stream",
          "name": "stdout",
          "text": [
            "142/142 [==============================] - 1s 3ms/step\n"
          ]
        },
        {
          "output_type": "execute_result",
          "data": {
            "text/plain": [
              "array([0, 0, 0, ..., 0, 0, 0])"
            ]
          },
          "metadata": {},
          "execution_count": 39
        }
      ]
    },
    {
      "cell_type": "code",
      "source": [
        "print(classification_report(y_test[:,1],pred1))"
      ],
      "metadata": {
        "colab": {
          "base_uri": "https://localhost:8080/"
        },
        "id": "78ASrQxiN67z",
        "outputId": "21fb6576-c5bb-4663-ce4a-062f16fd9606"
      },
      "execution_count": null,
      "outputs": [
        {
          "output_type": "stream",
          "name": "stdout",
          "text": [
            "              precision    recall  f1-score   support\n",
            "\n",
            "         0.0       0.88      0.92      0.90      3401\n",
            "         1.0       0.73      0.64      0.68      1124\n",
            "\n",
            "    accuracy                           0.85      4525\n",
            "   macro avg       0.81      0.78      0.79      4525\n",
            "weighted avg       0.85      0.85      0.85      4525\n",
            "\n"
          ]
        }
      ]
    },
    {
      "cell_type": "markdown",
      "source": [
        "# Modified first model, add one more hidden layer: 4 hidden layer DNN"
      ],
      "metadata": {
        "id": "fnykgJylRcy_"
      }
    },
    {
      "cell_type": "code",
      "source": [
        "model2=Sequential()\n",
        "\n",
        "model2.add(Input(shape=(x_train.shape[1],)))\n",
        "\n",
        "model2.add(Dense(x_train.shape[1],activation='relu'))#,input_shape=(x_train.shape[1],)))\n",
        "model2.add(Dropout(0.25))\n",
        "model2.add(Dense(n*x_train.shape[1],activation='relu'))\n",
        "model2.add(Dropout(0.5))\n",
        "model2.add(Dense(x_train.shape[1],activation='relu'))\n",
        "model2.add(Dropout(0.1))\n",
        "model2.add(Dense(x_train.shape[1]/2,activation='relu'))\n",
        "\n",
        "model2.add(Dense(2,activation='softmax'))\n",
        "\n",
        "\n",
        "model2.compile(loss='categorical_crossentropy',metrics=['accuracy'],optimizer='adam')"
      ],
      "metadata": {
        "id": "-EZnUYg8N_Xp"
      },
      "execution_count": null,
      "outputs": []
    },
    {
      "cell_type": "code",
      "source": [
        "model2.summary()"
      ],
      "metadata": {
        "colab": {
          "base_uri": "https://localhost:8080/"
        },
        "id": "bmITlHbhOnYA",
        "outputId": "2f3dafad-358e-462d-f094-8f463ed2053a"
      },
      "execution_count": null,
      "outputs": [
        {
          "output_type": "stream",
          "name": "stdout",
          "text": [
            "Model: \"sequential_1\"\n",
            "_________________________________________________________________\n",
            " Layer (type)                Output Shape              Param #   \n",
            "=================================================================\n",
            " dense_4 (Dense)             (None, 96)                9312      \n",
            "                                                                 \n",
            " dropout_2 (Dropout)         (None, 96)                0         \n",
            "                                                                 \n",
            " dense_5 (Dense)             (None, 192)               18624     \n",
            "                                                                 \n",
            " dropout_3 (Dropout)         (None, 192)               0         \n",
            "                                                                 \n",
            " dense_6 (Dense)             (None, 96)                18528     \n",
            "                                                                 \n",
            " dropout_4 (Dropout)         (None, 96)                0         \n",
            "                                                                 \n",
            " dense_7 (Dense)             (None, 48)                4656      \n",
            "                                                                 \n",
            " dense_8 (Dense)             (None, 2)                 98        \n",
            "                                                                 \n",
            "=================================================================\n",
            "Total params: 51,218\n",
            "Trainable params: 51,218\n",
            "Non-trainable params: 0\n",
            "_________________________________________________________________\n"
          ]
        }
      ]
    },
    {
      "cell_type": "code",
      "source": [
        "results=model2.fit(x_train,y_train,validation_data=(x_val,y_val),callbacks=[e],epochs=100)"
      ],
      "metadata": {
        "colab": {
          "base_uri": "https://localhost:8080/"
        },
        "id": "4SFV4I9DOouf",
        "outputId": "40322d9f-1457-4dd0-844a-a335857f5fff"
      },
      "execution_count": null,
      "outputs": [
        {
          "output_type": "stream",
          "name": "stdout",
          "text": [
            "Epoch 1/100\n",
            "681/681 [==============================] - 3s 4ms/step - loss: 0.3916 - accuracy: 0.8180 - val_loss: 0.3369 - val_accuracy: 0.8453\n",
            "Epoch 2/100\n",
            "681/681 [==============================] - 2s 3ms/step - loss: 0.3469 - accuracy: 0.8392 - val_loss: 0.3309 - val_accuracy: 0.8463\n",
            "Epoch 3/100\n",
            "681/681 [==============================] - 2s 3ms/step - loss: 0.3355 - accuracy: 0.8458 - val_loss: 0.3236 - val_accuracy: 0.8502\n",
            "Epoch 4/100\n",
            "681/681 [==============================] - 2s 3ms/step - loss: 0.3262 - accuracy: 0.8492 - val_loss: 0.3250 - val_accuracy: 0.8502\n",
            "Epoch 5/100\n",
            "681/681 [==============================] - 2s 4ms/step - loss: 0.3226 - accuracy: 0.8515 - val_loss: 0.3205 - val_accuracy: 0.8484\n",
            "Epoch 6/100\n",
            "681/681 [==============================] - 2s 3ms/step - loss: 0.3174 - accuracy: 0.8531 - val_loss: 0.3211 - val_accuracy: 0.8521\n",
            "Epoch 7/100\n",
            "681/681 [==============================] - 2s 3ms/step - loss: 0.3147 - accuracy: 0.8552 - val_loss: 0.3207 - val_accuracy: 0.8536\n",
            "Epoch 8/100\n",
            "681/681 [==============================] - 2s 4ms/step - loss: 0.3162 - accuracy: 0.8551 - val_loss: 0.3227 - val_accuracy: 0.8534\n",
            "Epoch 9/100\n",
            "681/681 [==============================] - 2s 3ms/step - loss: 0.3120 - accuracy: 0.8557 - val_loss: 0.3225 - val_accuracy: 0.8526\n",
            "Epoch 10/100\n",
            "681/681 [==============================] - 2s 3ms/step - loss: 0.3095 - accuracy: 0.8587 - val_loss: 0.3262 - val_accuracy: 0.8541\n"
          ]
        }
      ]
    },
    {
      "cell_type": "code",
      "source": [
        "model2.evaluate(x_test,y_test)"
      ],
      "metadata": {
        "colab": {
          "base_uri": "https://localhost:8080/"
        },
        "id": "Pwe31nKAOsy-",
        "outputId": "dbd78334-0914-46fa-f2be-1a89fa0e76ca"
      },
      "execution_count": null,
      "outputs": [
        {
          "output_type": "stream",
          "name": "stdout",
          "text": [
            "142/142 [==============================] - 1s 5ms/step - loss: 0.3206 - accuracy: 0.8546\n"
          ]
        },
        {
          "output_type": "execute_result",
          "data": {
            "text/plain": [
              "[0.3206293284893036, 0.8545856475830078]"
            ]
          },
          "metadata": {},
          "execution_count": 45
        }
      ]
    },
    {
      "cell_type": "code",
      "source": [
        "pred2=np.argmax(model2.predict(x_test), axis=-1)\n",
        "pred2"
      ],
      "metadata": {
        "colab": {
          "base_uri": "https://localhost:8080/"
        },
        "id": "XBJSvFVsO3ab",
        "outputId": "c5a33401-59b5-47dc-ce88-7279cb19d8da"
      },
      "execution_count": null,
      "outputs": [
        {
          "output_type": "stream",
          "name": "stdout",
          "text": [
            "142/142 [==============================] - 1s 3ms/step\n"
          ]
        },
        {
          "output_type": "execute_result",
          "data": {
            "text/plain": [
              "array([0, 0, 0, ..., 0, 0, 0])"
            ]
          },
          "metadata": {},
          "execution_count": 46
        }
      ]
    },
    {
      "cell_type": "code",
      "source": [
        "print(classification_report(y_test[:,1],pred2))"
      ],
      "metadata": {
        "colab": {
          "base_uri": "https://localhost:8080/"
        },
        "id": "WZq6lOzxPJuw",
        "outputId": "60e0e023-1492-4d54-fd36-2c0ea723b3b3"
      },
      "execution_count": null,
      "outputs": [
        {
          "output_type": "stream",
          "name": "stdout",
          "text": [
            "              precision    recall  f1-score   support\n",
            "\n",
            "         0.0       0.87      0.94      0.91      3401\n",
            "         1.0       0.78      0.58      0.67      1124\n",
            "\n",
            "    accuracy                           0.85      4525\n",
            "   macro avg       0.82      0.76      0.79      4525\n",
            "weighted avg       0.85      0.85      0.85      4525\n",
            "\n"
          ]
        }
      ]
    },
    {
      "cell_type": "markdown",
      "source": [
        "# Method 2: CNN method"
      ],
      "metadata": {
        "id": "3yNF_Z-0RtSR"
      }
    },
    {
      "cell_type": "code",
      "source": [
        "# reshape data shape so that can fit into 1D Conv layer\n",
        "train_sample_size =   x_train.shape[0]\n",
        "train_time_step = x_train.shape[1]\n",
        "dimension = 1\n",
        "\n",
        "val_sample_size =   x_val.shape[ 0]\n",
        "val_time_step = x_val.shape[1]\n",
        "dimension = 1\n",
        "\n",
        "test_sample_size =   x_test.shape[0]\n",
        "test_time_step = x_test.shape[1]\n",
        "dimension = 1"
      ],
      "metadata": {
        "id": "9_8cBYdojGiH"
      },
      "execution_count": null,
      "outputs": []
    },
    {
      "cell_type": "code",
      "source": [
        "x_train = x_train.reshape(train_sample_size, train_time_step, dimension)\n",
        "x_val   = x_val.reshape(val_sample_size, val_time_step, dimension)"
      ],
      "metadata": {
        "id": "B6Heq0PXjYu7"
      },
      "execution_count": null,
      "outputs": []
    },
    {
      "cell_type": "code",
      "source": [
        "x_test = x_test.reshape(test_sample_size, test_time_step, dimension)"
      ],
      "metadata": {
        "id": "Xi92OVRmkYtm"
      },
      "execution_count": null,
      "outputs": []
    },
    {
      "cell_type": "code",
      "source": [
        "model = Sequential()\n",
        "model.add(Input(shape=(np.shape(x_train)[1], 1)))\n",
        "model.add(Conv1D(filters = 128, kernel_size=7,activation='relu'))\n",
        "model.add(Dropout(0.5))\n",
        "model.add(Conv1D(filters = 64, kernel_size=3,activation='relu'))\n",
        "model.add(Conv1D(filters = 32, kernel_size=2,activation='relu'))\n",
        "\n",
        "model.add(MaxPool1D(pool_size=2))\n",
        "model.add(Flatten())\n",
        "\n",
        "model.add(Dense(16,activation='relu'))\n",
        "model.add(Dense(2,activation='sigmoid'))\n",
        "\n",
        "model.compile(loss='binary_crossentropy',metrics=['accuracy'],optimizer='adam')"
      ],
      "metadata": {
        "id": "4Zu3drAudUPM"
      },
      "execution_count": null,
      "outputs": []
    },
    {
      "cell_type": "code",
      "source": [
        "model.summary()"
      ],
      "metadata": {
        "colab": {
          "base_uri": "https://localhost:8080/"
        },
        "id": "WhKpXH78ehk4",
        "outputId": "918d43fa-4927-4afa-a378-5630c45b48ae"
      },
      "execution_count": null,
      "outputs": [
        {
          "output_type": "stream",
          "name": "stdout",
          "text": [
            "Model: \"sequential_44\"\n",
            "_________________________________________________________________\n",
            " Layer (type)                Output Shape              Param #   \n",
            "=================================================================\n",
            " conv1d_53 (Conv1D)          (None, 90, 128)           1024      \n",
            "                                                                 \n",
            " dropout_34 (Dropout)        (None, 90, 128)           0         \n",
            "                                                                 \n",
            " conv1d_54 (Conv1D)          (None, 88, 64)            24640     \n",
            "                                                                 \n",
            " conv1d_55 (Conv1D)          (None, 87, 32)            4128      \n",
            "                                                                 \n",
            " max_pooling1d_37 (MaxPoolin  (None, 43, 32)           0         \n",
            " g1D)                                                            \n",
            "                                                                 \n",
            " flatten_11 (Flatten)        (None, 1376)              0         \n",
            "                                                                 \n",
            " dense_87 (Dense)            (None, 16)                22032     \n",
            "                                                                 \n",
            " dense_88 (Dense)            (None, 2)                 34        \n",
            "                                                                 \n",
            "=================================================================\n",
            "Total params: 51,858\n",
            "Trainable params: 51,858\n",
            "Non-trainable params: 0\n",
            "_________________________________________________________________\n"
          ]
        }
      ]
    },
    {
      "cell_type": "code",
      "source": [
        "results=model.fit(x_train,y_train,validation_data=(x_val,y_val),callbacks=[e],epochs=100)"
      ],
      "metadata": {
        "colab": {
          "base_uri": "https://localhost:8080/"
        },
        "id": "uhlDnXPMUHUS",
        "outputId": "7800d962-bc36-4dec-cfa5-92b899fef4e2"
      },
      "execution_count": null,
      "outputs": [
        {
          "output_type": "stream",
          "name": "stdout",
          "text": [
            "Epoch 1/100\n",
            "681/681 [==============================] - 11s 5ms/step - loss: 0.3913 - accuracy: 0.8166 - val_loss: 0.3523 - val_accuracy: 0.8357\n",
            "Epoch 2/100\n",
            "681/681 [==============================] - 3s 5ms/step - loss: 0.3527 - accuracy: 0.8365 - val_loss: 0.3388 - val_accuracy: 0.8424\n",
            "Epoch 3/100\n",
            "681/681 [==============================] - 3s 5ms/step - loss: 0.3448 - accuracy: 0.8402 - val_loss: 0.3299 - val_accuracy: 0.8482\n",
            "Epoch 4/100\n",
            "681/681 [==============================] - 3s 5ms/step - loss: 0.3389 - accuracy: 0.8448 - val_loss: 0.3429 - val_accuracy: 0.8422\n",
            "Epoch 5/100\n",
            "681/681 [==============================] - 3s 5ms/step - loss: 0.3354 - accuracy: 0.8466 - val_loss: 0.3257 - val_accuracy: 0.8492\n",
            "Epoch 6/100\n",
            "681/681 [==============================] - 3s 5ms/step - loss: 0.3321 - accuracy: 0.8471 - val_loss: 0.3230 - val_accuracy: 0.8518\n",
            "Epoch 7/100\n",
            "681/681 [==============================] - 3s 5ms/step - loss: 0.3294 - accuracy: 0.8477 - val_loss: 0.3242 - val_accuracy: 0.8500\n",
            "Epoch 8/100\n",
            "681/681 [==============================] - 3s 5ms/step - loss: 0.3275 - accuracy: 0.8487 - val_loss: 0.3227 - val_accuracy: 0.8510\n",
            "Epoch 9/100\n",
            "681/681 [==============================] - 3s 5ms/step - loss: 0.3251 - accuracy: 0.8476 - val_loss: 0.3245 - val_accuracy: 0.8528\n",
            "Epoch 10/100\n",
            "681/681 [==============================] - 3s 5ms/step - loss: 0.3239 - accuracy: 0.8509 - val_loss: 0.3239 - val_accuracy: 0.8534\n",
            "Epoch 11/100\n",
            "681/681 [==============================] - 3s 5ms/step - loss: 0.3224 - accuracy: 0.8508 - val_loss: 0.3245 - val_accuracy: 0.8508\n",
            "Epoch 12/100\n",
            "681/681 [==============================] - 3s 5ms/step - loss: 0.3196 - accuracy: 0.8509 - val_loss: 0.3180 - val_accuracy: 0.8528\n",
            "Epoch 13/100\n",
            "681/681 [==============================] - 3s 5ms/step - loss: 0.3203 - accuracy: 0.8521 - val_loss: 0.3205 - val_accuracy: 0.8513\n",
            "Epoch 14/100\n",
            "681/681 [==============================] - 4s 6ms/step - loss: 0.3176 - accuracy: 0.8529 - val_loss: 0.3170 - val_accuracy: 0.8591\n",
            "Epoch 15/100\n",
            "681/681 [==============================] - 4s 6ms/step - loss: 0.3169 - accuracy: 0.8537 - val_loss: 0.3182 - val_accuracy: 0.8552\n",
            "Epoch 16/100\n",
            "681/681 [==============================] - 3s 5ms/step - loss: 0.3164 - accuracy: 0.8542 - val_loss: 0.3182 - val_accuracy: 0.8547\n",
            "Epoch 17/100\n",
            "681/681 [==============================] - 3s 5ms/step - loss: 0.3139 - accuracy: 0.8550 - val_loss: 0.3189 - val_accuracy: 0.8510\n",
            "Epoch 18/100\n",
            "681/681 [==============================] - 3s 5ms/step - loss: 0.3126 - accuracy: 0.8575 - val_loss: 0.3195 - val_accuracy: 0.8515\n",
            "Epoch 19/100\n",
            "681/681 [==============================] - 3s 5ms/step - loss: 0.3124 - accuracy: 0.8561 - val_loss: 0.3216 - val_accuracy: 0.8541\n"
          ]
        }
      ]
    },
    {
      "cell_type": "code",
      "source": [
        "model.evaluate(x_test,y_test)"
      ],
      "metadata": {
        "colab": {
          "base_uri": "https://localhost:8080/"
        },
        "id": "odM9oyyRUONE",
        "outputId": "d04aff49-2d67-47f1-d7ad-593ccfac996f"
      },
      "execution_count": null,
      "outputs": [
        {
          "output_type": "stream",
          "name": "stdout",
          "text": [
            "142/142 [==============================] - 1s 6ms/step - loss: 0.3218 - accuracy: 0.8586\n"
          ]
        },
        {
          "output_type": "execute_result",
          "data": {
            "text/plain": [
              "[0.32183927297592163, 0.8585635423660278]"
            ]
          },
          "metadata": {},
          "execution_count": 251
        }
      ]
    },
    {
      "cell_type": "code",
      "source": [
        "pred3=np.argmax(model.predict(x_test), axis=-1)\n",
        "pred3\n",
        "print(classification_report(y_test[:,1],pred3))"
      ],
      "metadata": {
        "colab": {
          "base_uri": "https://localhost:8080/"
        },
        "id": "-PbGF0AXksIm",
        "outputId": "cab94e12-55be-48c1-b7a7-0f619534d71c"
      },
      "execution_count": null,
      "outputs": [
        {
          "output_type": "stream",
          "name": "stdout",
          "text": [
            "142/142 [==============================] - 1s 3ms/step\n",
            "              precision    recall  f1-score   support\n",
            "\n",
            "         0.0       0.89      0.93      0.91      3401\n",
            "         1.0       0.75      0.64      0.69      1124\n",
            "\n",
            "    accuracy                           0.86      4525\n",
            "   macro avg       0.82      0.79      0.80      4525\n",
            "weighted avg       0.85      0.86      0.85      4525\n",
            "\n"
          ]
        }
      ]
    },
    {
      "cell_type": "code",
      "source": [
        "# using CNN, accuracy increase by 1%"
      ],
      "metadata": {
        "id": "Za27XVkzkye6"
      },
      "execution_count": null,
      "outputs": []
    }
  ]
}