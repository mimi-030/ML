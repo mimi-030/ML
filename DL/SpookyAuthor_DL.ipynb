{
  "nbformat": 4,
  "nbformat_minor": 0,
  "metadata": {
    "colab": {
      "provenance": []
    },
    "kernelspec": {
      "name": "python3",
      "display_name": "Python 3"
    },
    "language_info": {
      "name": "python"
    },
    "accelerator": "GPU",
    "gpuClass": "standard"
  },
  "cells": [
    {
      "cell_type": "code",
      "source": [
        "from google.colab import drive\n",
        "drive.mount('/content/drive')"
      ],
      "metadata": {
        "colab": {
          "base_uri": "https://localhost:8080/"
        },
        "id": "k2tPqPHE1wzB",
        "outputId": "25a8ee10-11da-4c05-f967-13d9963891d9"
      },
      "execution_count": null,
      "outputs": [
        {
          "output_type": "stream",
          "name": "stdout",
          "text": [
            "Mounted at /content/drive\n"
          ]
        }
      ]
    },
    {
      "cell_type": "code",
      "source": [
        "%cd drive/MyDrive/Colab Notebooks/fasttext"
      ],
      "metadata": {
        "colab": {
          "base_uri": "https://localhost:8080/"
        },
        "id": "X4THBusy13xo",
        "outputId": "00abddf9-fb2f-4d3f-eb11-cfe125ba3a8b"
      },
      "execution_count": null,
      "outputs": [
        {
          "output_type": "stream",
          "name": "stdout",
          "text": [
            "/content/drive/MyDrive/Colab Notebooks/fasttext\n"
          ]
        }
      ]
    },
    {
      "cell_type": "code",
      "execution_count": null,
      "metadata": {
        "colab": {
          "base_uri": "https://localhost:8080/"
        },
        "id": "wG5OVzHUuoEl",
        "outputId": "369ed96a-5819-449c-9e22-b734880a500a"
      },
      "outputs": [
        {
          "output_type": "stream",
          "name": "stderr",
          "text": [
            "[nltk_data] Downloading package stopwords to /root/nltk_data...\n",
            "[nltk_data]   Package stopwords is already up-to-date!\n",
            "[nltk_data] Downloading package punkt to /root/nltk_data...\n",
            "[nltk_data]   Package punkt is already up-to-date!\n"
          ]
        }
      ],
      "source": [
        "import pandas as pd\n",
        "import numpy as np\n",
        "import matplotlib.pyplot as plt\n",
        "\n",
        "from keras.preprocessing.text import Tokenizer\n",
        "from keras_preprocessing.sequence import pad_sequences\n",
        "\n",
        "# Pytorch Imports\n",
        "import torch\n",
        "import torch.nn as nn\n",
        "import torch.utils.data\n",
        "from torch.autograd import Variable\n",
        "\n",
        "import time\n",
        "\n",
        "from sklearn.model_selection import StratifiedKFold\n",
        "from sklearn.metrics import f1_score,classification_report,accuracy_score,confusion_matrix,mean_absolute_error,mean_squared_error\n",
        "from sklearn.model_selection import train_test_split\n",
        "\n",
        "from keras.models import Sequential\n",
        "from tensorflow.keras.layers import LSTM, GRU, Embedding, BatchNormalization\n",
        "from keras.layers.core import Dense, Activation, Dropout\n",
        "from keras.utils import np_utils\n",
        "from keras.layers import GlobalMaxPooling1D, Conv1D, MaxPooling1D, Flatten, Bidirectional, SpatialDropout1D\n",
        "from keras.preprocessing import text\n",
        "from keras_preprocessing.sequence import pad_sequences\n",
        "from keras.callbacks import EarlyStopping\n",
        "\n",
        "from nltk import word_tokenize\n",
        "from nltk.corpus import stopwords\n",
        "\n",
        "import nltk\n",
        "nltk.download('stopwords')\n",
        "stop_words = stopwords.words('english')\n",
        "nltk.download('punkt')\n",
        "\n",
        "from sklearn import preprocessing, decomposition, model_selection, metrics, pipeline\n",
        "\n",
        "from tqdm import tqdm"
      ]
    },
    {
      "cell_type": "code",
      "source": [
        "train = pd.read_csv('train.csv')"
      ],
      "metadata": {
        "id": "0B7pMZUJvL6t"
      },
      "execution_count": null,
      "outputs": []
    },
    {
      "cell_type": "code",
      "source": [
        "train.head()"
      ],
      "metadata": {
        "colab": {
          "base_uri": "https://localhost:8080/",
          "height": 206
        },
        "id": "IwQwHCnnvRVz",
        "outputId": "10725c8d-ea01-4b47-f3de-d2e17d0a7434"
      },
      "execution_count": null,
      "outputs": [
        {
          "output_type": "execute_result",
          "data": {
            "text/plain": [
              "        id                                               text author\n",
              "0  id26305  This process, however, afforded me no means of...    EAP\n",
              "1  id17569  It never once occurred to me that the fumbling...    HPL\n",
              "2  id11008  In his left hand was a gold snuff box, from wh...    EAP\n",
              "3  id27763  How lovely is spring As we looked from Windsor...    MWS\n",
              "4  id12958  Finding nothing else, not even gold, the Super...    HPL"
            ],
            "text/html": [
              "\n",
              "  <div id=\"df-7a857474-bfdc-4115-a0b3-564f7e2028c1\">\n",
              "    <div class=\"colab-df-container\">\n",
              "      <div>\n",
              "<style scoped>\n",
              "    .dataframe tbody tr th:only-of-type {\n",
              "        vertical-align: middle;\n",
              "    }\n",
              "\n",
              "    .dataframe tbody tr th {\n",
              "        vertical-align: top;\n",
              "    }\n",
              "\n",
              "    .dataframe thead th {\n",
              "        text-align: right;\n",
              "    }\n",
              "</style>\n",
              "<table border=\"1\" class=\"dataframe\">\n",
              "  <thead>\n",
              "    <tr style=\"text-align: right;\">\n",
              "      <th></th>\n",
              "      <th>id</th>\n",
              "      <th>text</th>\n",
              "      <th>author</th>\n",
              "    </tr>\n",
              "  </thead>\n",
              "  <tbody>\n",
              "    <tr>\n",
              "      <th>0</th>\n",
              "      <td>id26305</td>\n",
              "      <td>This process, however, afforded me no means of...</td>\n",
              "      <td>EAP</td>\n",
              "    </tr>\n",
              "    <tr>\n",
              "      <th>1</th>\n",
              "      <td>id17569</td>\n",
              "      <td>It never once occurred to me that the fumbling...</td>\n",
              "      <td>HPL</td>\n",
              "    </tr>\n",
              "    <tr>\n",
              "      <th>2</th>\n",
              "      <td>id11008</td>\n",
              "      <td>In his left hand was a gold snuff box, from wh...</td>\n",
              "      <td>EAP</td>\n",
              "    </tr>\n",
              "    <tr>\n",
              "      <th>3</th>\n",
              "      <td>id27763</td>\n",
              "      <td>How lovely is spring As we looked from Windsor...</td>\n",
              "      <td>MWS</td>\n",
              "    </tr>\n",
              "    <tr>\n",
              "      <th>4</th>\n",
              "      <td>id12958</td>\n",
              "      <td>Finding nothing else, not even gold, the Super...</td>\n",
              "      <td>HPL</td>\n",
              "    </tr>\n",
              "  </tbody>\n",
              "</table>\n",
              "</div>\n",
              "      <button class=\"colab-df-convert\" onclick=\"convertToInteractive('df-7a857474-bfdc-4115-a0b3-564f7e2028c1')\"\n",
              "              title=\"Convert this dataframe to an interactive table.\"\n",
              "              style=\"display:none;\">\n",
              "        \n",
              "  <svg xmlns=\"http://www.w3.org/2000/svg\" height=\"24px\"viewBox=\"0 0 24 24\"\n",
              "       width=\"24px\">\n",
              "    <path d=\"M0 0h24v24H0V0z\" fill=\"none\"/>\n",
              "    <path d=\"M18.56 5.44l.94 2.06.94-2.06 2.06-.94-2.06-.94-.94-2.06-.94 2.06-2.06.94zm-11 1L8.5 8.5l.94-2.06 2.06-.94-2.06-.94L8.5 2.5l-.94 2.06-2.06.94zm10 10l.94 2.06.94-2.06 2.06-.94-2.06-.94-.94-2.06-.94 2.06-2.06.94z\"/><path d=\"M17.41 7.96l-1.37-1.37c-.4-.4-.92-.59-1.43-.59-.52 0-1.04.2-1.43.59L10.3 9.45l-7.72 7.72c-.78.78-.78 2.05 0 2.83L4 21.41c.39.39.9.59 1.41.59.51 0 1.02-.2 1.41-.59l7.78-7.78 2.81-2.81c.8-.78.8-2.07 0-2.86zM5.41 20L4 18.59l7.72-7.72 1.47 1.35L5.41 20z\"/>\n",
              "  </svg>\n",
              "      </button>\n",
              "      \n",
              "  <style>\n",
              "    .colab-df-container {\n",
              "      display:flex;\n",
              "      flex-wrap:wrap;\n",
              "      gap: 12px;\n",
              "    }\n",
              "\n",
              "    .colab-df-convert {\n",
              "      background-color: #E8F0FE;\n",
              "      border: none;\n",
              "      border-radius: 50%;\n",
              "      cursor: pointer;\n",
              "      display: none;\n",
              "      fill: #1967D2;\n",
              "      height: 32px;\n",
              "      padding: 0 0 0 0;\n",
              "      width: 32px;\n",
              "    }\n",
              "\n",
              "    .colab-df-convert:hover {\n",
              "      background-color: #E2EBFA;\n",
              "      box-shadow: 0px 1px 2px rgba(60, 64, 67, 0.3), 0px 1px 3px 1px rgba(60, 64, 67, 0.15);\n",
              "      fill: #174EA6;\n",
              "    }\n",
              "\n",
              "    [theme=dark] .colab-df-convert {\n",
              "      background-color: #3B4455;\n",
              "      fill: #D2E3FC;\n",
              "    }\n",
              "\n",
              "    [theme=dark] .colab-df-convert:hover {\n",
              "      background-color: #434B5C;\n",
              "      box-shadow: 0px 1px 3px 1px rgba(0, 0, 0, 0.15);\n",
              "      filter: drop-shadow(0px 1px 2px rgba(0, 0, 0, 0.3));\n",
              "      fill: #FFFFFF;\n",
              "    }\n",
              "  </style>\n",
              "\n",
              "      <script>\n",
              "        const buttonEl =\n",
              "          document.querySelector('#df-7a857474-bfdc-4115-a0b3-564f7e2028c1 button.colab-df-convert');\n",
              "        buttonEl.style.display =\n",
              "          google.colab.kernel.accessAllowed ? 'block' : 'none';\n",
              "\n",
              "        async function convertToInteractive(key) {\n",
              "          const element = document.querySelector('#df-7a857474-bfdc-4115-a0b3-564f7e2028c1');\n",
              "          const dataTable =\n",
              "            await google.colab.kernel.invokeFunction('convertToInteractive',\n",
              "                                                     [key], {});\n",
              "          if (!dataTable) return;\n",
              "\n",
              "          const docLinkHtml = 'Like what you see? Visit the ' +\n",
              "            '<a target=\"_blank\" href=https://colab.research.google.com/notebooks/data_table.ipynb>data table notebook</a>'\n",
              "            + ' to learn more about interactive tables.';\n",
              "          element.innerHTML = '';\n",
              "          dataTable['output_type'] = 'display_data';\n",
              "          await google.colab.output.renderOutput(dataTable, element);\n",
              "          const docLink = document.createElement('div');\n",
              "          docLink.innerHTML = docLinkHtml;\n",
              "          element.appendChild(docLink);\n",
              "        }\n",
              "      </script>\n",
              "    </div>\n",
              "  </div>\n",
              "  "
            ]
          },
          "metadata": {},
          "execution_count": 274
        }
      ]
    },
    {
      "cell_type": "code",
      "source": [
        "train.author.unique()"
      ],
      "metadata": {
        "colab": {
          "base_uri": "https://localhost:8080/"
        },
        "id": "HOtXV50IcVlv",
        "outputId": "a191a053-ac53-464e-90f9-6df34ff01b08"
      },
      "execution_count": null,
      "outputs": [
        {
          "output_type": "execute_result",
          "data": {
            "text/plain": [
              "array(['EAP', 'HPL', 'MWS'], dtype=object)"
            ]
          },
          "metadata": {},
          "execution_count": 277
        }
      ]
    },
    {
      "cell_type": "code",
      "source": [
        "train.info()"
      ],
      "metadata": {
        "colab": {
          "base_uri": "https://localhost:8080/"
        },
        "id": "Jlf7WR2BKGvg",
        "outputId": "5b80281c-2ec6-4850-ee51-ba41cec71f43"
      },
      "execution_count": null,
      "outputs": [
        {
          "output_type": "stream",
          "name": "stdout",
          "text": [
            "<class 'pandas.core.frame.DataFrame'>\n",
            "RangeIndex: 19579 entries, 0 to 19578\n",
            "Data columns (total 3 columns):\n",
            " #   Column  Non-Null Count  Dtype \n",
            "---  ------  --------------  ----- \n",
            " 0   id      19579 non-null  object\n",
            " 1   text    19579 non-null  object\n",
            " 2   author  19579 non-null  object\n",
            "dtypes: object(3)\n",
            "memory usage: 459.0+ KB\n"
          ]
        }
      ]
    },
    {
      "cell_type": "code",
      "source": [
        "lbl_enc = preprocessing.LabelEncoder()\n",
        "y = lbl_enc.fit_transform(train.author.values)"
      ],
      "metadata": {
        "id": "lpWUFolmeL3j"
      },
      "execution_count": null,
      "outputs": []
    },
    {
      "cell_type": "code",
      "source": [
        "np.unique(y)"
      ],
      "metadata": {
        "colab": {
          "base_uri": "https://localhost:8080/"
        },
        "id": "iugOODqlDRxV",
        "outputId": "14a2f339-a076-4423-903c-4d4c1423f4d8"
      },
      "execution_count": null,
      "outputs": [
        {
          "output_type": "execute_result",
          "data": {
            "text/plain": [
              "array([0, 1, 2])"
            ]
          },
          "metadata": {},
          "execution_count": 247
        }
      ]
    },
    {
      "cell_type": "code",
      "source": [
        "xtrain, xvalid, ytrain, yvalid = train_test_split(train.text.values, y, \n",
        "                                                  stratify=y, \n",
        "                                                  random_state=42, \n",
        "                                                  test_size=0.1, shuffle=True)"
      ],
      "metadata": {
        "id": "V5BvUf0uePID"
      },
      "execution_count": null,
      "outputs": []
    },
    {
      "cell_type": "code",
      "source": [
        "print (xtrain.shape)\n",
        "print (xvalid.shape)"
      ],
      "metadata": {
        "colab": {
          "base_uri": "https://localhost:8080/"
        },
        "id": "__geBPcpeRVS",
        "outputId": "1a246ba5-b4f3-4727-f226-9619e58bbdd9"
      },
      "execution_count": null,
      "outputs": [
        {
          "output_type": "stream",
          "name": "stdout",
          "text": [
            "(17621,)\n",
            "(1958,)\n"
          ]
        }
      ]
    },
    {
      "cell_type": "code",
      "source": [
        "embeddings_index = {}\n",
        "f = open('glove.840B.300d.txt')\n",
        "for line in tqdm(f):\n",
        "    values = line.split(\" \")\n",
        "    word = values[0]\n",
        "    coefs = np.asarray(values[1:], dtype='float32')\n",
        "    embeddings_index[word] = coefs\n",
        "f.close()\n",
        "\n",
        "print('Found %s word vectors.' % len(embeddings_index))"
      ],
      "metadata": {
        "colab": {
          "base_uri": "https://localhost:8080/"
        },
        "id": "XzzPBpoPeYvN",
        "outputId": "ed31cd3b-2534-4410-e734-dd3982498233"
      },
      "execution_count": null,
      "outputs": [
        {
          "output_type": "stream",
          "name": "stderr",
          "text": [
            "2196017it [02:18, 15900.43it/s]"
          ]
        },
        {
          "output_type": "stream",
          "name": "stdout",
          "text": [
            "Found 2196016 word vectors.\n"
          ]
        },
        {
          "output_type": "stream",
          "name": "stderr",
          "text": [
            "\n"
          ]
        }
      ]
    },
    {
      "cell_type": "code",
      "source": [
        "def sent2vec(s):\n",
        "    words = str(s).lower()\n",
        "    words = word_tokenize(words)\n",
        "    words = [w for w in words if not w in stop_words]\n",
        "    words = [w for w in words if w.isalpha()]\n",
        "    M = []\n",
        "    for w in words:\n",
        "        try:\n",
        "            M.append(embeddings_index[w])\n",
        "        except:\n",
        "            continue\n",
        "    M = np.array(M)\n",
        "    v = M.sum(axis=0)\n",
        "    if type(v) != np.ndarray:\n",
        "        return np.zeros(300)\n",
        "    return v / np.sqrt((v ** 2).sum())\n"
      ],
      "metadata": {
        "id": "y6ou1RHTqSEd"
      },
      "execution_count": null,
      "outputs": []
    },
    {
      "cell_type": "code",
      "source": [
        "# create sentence vectors using the above function for training and validation set\n",
        "xtrain_glove = [sent2vec(x) for x in tqdm(xtrain)]\n",
        "xvalid_glove = [sent2vec(x) for x in tqdm(xvalid)]"
      ],
      "metadata": {
        "colab": {
          "base_uri": "https://localhost:8080/"
        },
        "id": "_fkSggoJrOnw",
        "outputId": "7e5fbbb7-d3a4-4ed7-eef0-f0559ecd0f83"
      },
      "execution_count": null,
      "outputs": [
        {
          "output_type": "stream",
          "name": "stderr",
          "text": [
            "\n",
            "  0%|          | 0/17621 [00:00<?, ?it/s]\u001b[A\n",
            "  1%|          | 143/17621 [00:00<00:12, 1425.15it/s]\u001b[A\n",
            "  2%|▏         | 286/17621 [00:00<00:12, 1398.30it/s]\u001b[A\n",
            "  3%|▎         | 465/17621 [00:00<00:11, 1554.74it/s]\u001b[A\n",
            "  4%|▍         | 707/17621 [00:00<00:08, 1889.13it/s]\u001b[A\n",
            "  5%|▌         | 969/17621 [00:00<00:07, 2149.09it/s]\u001b[A\n",
            "  7%|▋         | 1233/17621 [00:00<00:07, 2312.78it/s]\u001b[A\n",
            "  8%|▊         | 1475/17621 [00:00<00:06, 2346.90it/s]\u001b[A\n",
            " 10%|▉         | 1716/17621 [00:00<00:06, 2366.17it/s]\u001b[A\n",
            " 11%|█         | 1981/17621 [00:00<00:06, 2453.20it/s]\u001b[A\n",
            " 13%|█▎        | 2253/17621 [00:01<00:06, 2531.11it/s]\u001b[A\n",
            " 14%|█▍        | 2507/17621 [00:01<00:06, 2448.22it/s]\u001b[A\n",
            " 16%|█▌        | 2753/17621 [00:01<00:06, 2451.37it/s]\u001b[A\n",
            " 17%|█▋        | 3001/17621 [00:01<00:05, 2458.70it/s]\u001b[A\n",
            " 19%|█▊        | 3272/17621 [00:01<00:05, 2532.88it/s]\u001b[A\n",
            " 20%|██        | 3526/17621 [00:01<00:05, 2431.36it/s]\u001b[A\n",
            " 21%|██▏       | 3781/17621 [00:01<00:05, 2464.79it/s]\u001b[A\n",
            " 23%|██▎       | 4029/17621 [00:01<00:05, 2440.31it/s]\u001b[A\n",
            " 24%|██▍       | 4274/17621 [00:01<00:05, 2380.08it/s]\u001b[A\n",
            " 26%|██▌       | 4541/17621 [00:01<00:05, 2463.07it/s]\u001b[A\n",
            " 27%|██▋       | 4813/17621 [00:02<00:05, 2537.31it/s]\u001b[A\n",
            " 29%|██▉       | 5071/17621 [00:02<00:04, 2547.77it/s]\u001b[A\n",
            " 30%|███       | 5336/17621 [00:02<00:04, 2575.41it/s]\u001b[A\n",
            " 32%|███▏      | 5594/17621 [00:02<00:04, 2424.49it/s]\u001b[A\n",
            " 33%|███▎      | 5839/17621 [00:02<00:04, 2418.47it/s]\u001b[A\n",
            " 35%|███▍      | 6107/17621 [00:02<00:04, 2490.17it/s]\u001b[A\n",
            " 36%|███▌      | 6358/17621 [00:02<00:04, 2474.46it/s]\u001b[A\n",
            " 37%|███▋      | 6607/17621 [00:02<00:04, 2292.00it/s]\u001b[A\n",
            " 39%|███▉      | 6883/17621 [00:02<00:04, 2420.94it/s]\u001b[A\n",
            " 40%|████      | 7135/17621 [00:03<00:04, 2448.12it/s]\u001b[A\n",
            " 42%|████▏     | 7403/17621 [00:03<00:04, 2513.36it/s]\u001b[A\n",
            " 44%|████▎     | 7667/17621 [00:03<00:03, 2547.85it/s]\u001b[A\n",
            " 45%|████▍     | 7924/17621 [00:03<00:03, 2507.27it/s]\u001b[A\n",
            " 46%|████▋     | 8176/17621 [00:03<00:03, 2504.75it/s]\u001b[A\n",
            " 48%|████▊     | 8434/17621 [00:03<00:03, 2523.99it/s]\u001b[A\n",
            " 49%|████▉     | 8713/17621 [00:03<00:03, 2600.73it/s]\u001b[A\n",
            " 51%|█████     | 8980/17621 [00:03<00:03, 2620.09it/s]\u001b[A\n",
            " 52%|█████▏    | 9243/17621 [00:03<00:03, 2437.58it/s]\u001b[A\n",
            " 54%|█████▍    | 9501/17621 [00:03<00:03, 2477.57it/s]\u001b[A\n",
            " 55%|█████▌    | 9751/17621 [00:04<00:03, 2471.16it/s]\u001b[A\n",
            " 57%|█████▋    | 10011/17621 [00:04<00:03, 2507.27it/s]\u001b[A\n",
            " 58%|█████▊    | 10265/17621 [00:04<00:02, 2515.13it/s]\u001b[A\n",
            " 60%|█████▉    | 10528/17621 [00:04<00:02, 2545.83it/s]\u001b[A\n",
            " 61%|██████    | 10784/17621 [00:04<00:02, 2527.30it/s]\u001b[A\n",
            " 63%|██████▎   | 11049/17621 [00:04<00:02, 2560.93it/s]\u001b[A\n",
            " 64%|██████▍   | 11306/17621 [00:04<00:02, 2490.78it/s]\u001b[A\n",
            " 66%|██████▌   | 11560/17621 [00:04<00:02, 2504.75it/s]\u001b[A\n",
            " 67%|██████▋   | 11811/17621 [00:04<00:02, 2457.81it/s]\u001b[A\n",
            " 69%|██████▊   | 12071/17621 [00:04<00:02, 2497.61it/s]\u001b[A\n",
            " 70%|███████   | 12335/17621 [00:05<00:02, 2539.09it/s]\u001b[A\n",
            " 71%|███████▏  | 12590/17621 [00:05<00:01, 2519.06it/s]\u001b[A\n",
            " 73%|███████▎  | 12862/17621 [00:05<00:01, 2577.96it/s]\u001b[A\n",
            " 75%|███████▍  | 13131/17621 [00:05<00:01, 2610.41it/s]\u001b[A\n",
            " 76%|███████▌  | 13393/17621 [00:05<00:01, 2602.42it/s]\u001b[A\n",
            " 77%|███████▋  | 13654/17621 [00:05<00:01, 2572.80it/s]\u001b[A\n",
            " 79%|███████▉  | 13918/17621 [00:05<00:01, 2586.40it/s]\u001b[A\n",
            " 80%|████████  | 14177/17621 [00:05<00:01, 2566.25it/s]\u001b[A\n",
            " 82%|████████▏ | 14434/17621 [00:05<00:01, 2499.75it/s]\u001b[A\n",
            " 84%|████████▎ | 14724/17621 [00:05<00:01, 2613.14it/s]\u001b[A\n",
            " 85%|████████▌ | 14992/17621 [00:06<00:00, 2631.81it/s]\u001b[A\n",
            " 87%|████████▋ | 15260/17621 [00:06<00:00, 2643.74it/s]\u001b[A\n",
            " 88%|████████▊ | 15525/17621 [00:06<00:00, 2591.15it/s]\u001b[A\n",
            " 90%|████████▉ | 15795/17621 [00:06<00:00, 2622.99it/s]\u001b[A\n",
            " 91%|█████████ | 16058/17621 [00:06<00:00, 2570.06it/s]\u001b[A\n",
            " 93%|█████████▎| 16328/17621 [00:06<00:00, 2606.63it/s]\u001b[A\n",
            " 94%|█████████▍| 16590/17621 [00:06<00:00, 2605.41it/s]\u001b[A\n",
            " 96%|█████████▌| 16851/17621 [00:06<00:00, 2573.02it/s]\u001b[A\n",
            " 97%|█████████▋| 17109/17621 [00:06<00:00, 2503.55it/s]\u001b[A\n",
            " 99%|█████████▊| 17361/17621 [00:07<00:00, 2507.23it/s]\u001b[A\n",
            "100%|██████████| 17621/17621 [00:07<00:00, 2473.17it/s]\n",
            "\n",
            "  0%|          | 0/1958 [00:00<?, ?it/s]\u001b[A\n",
            " 13%|█▎        | 263/1958 [00:00<00:00, 2627.15it/s]\u001b[A\n",
            " 27%|██▋       | 526/1958 [00:00<00:00, 2512.64it/s]\u001b[A\n",
            " 40%|███▉      | 778/1958 [00:00<00:00, 2508.82it/s]\u001b[A\n",
            " 53%|█████▎    | 1030/1958 [00:00<00:00, 2499.96it/s]\u001b[A\n",
            " 65%|██████▌   | 1281/1958 [00:00<00:00, 2369.14it/s]\u001b[A\n",
            " 78%|███████▊  | 1524/1958 [00:00<00:00, 2388.80it/s]\u001b[A\n",
            "100%|██████████| 1958/1958 [00:00<00:00, 2440.58it/s]\n"
          ]
        }
      ]
    },
    {
      "cell_type": "code",
      "source": [
        "xtrain_glove = np.array(xtrain_glove)\n",
        "xvalid_glove = np.array(xvalid_glove)"
      ],
      "metadata": {
        "id": "pcQ_L6ZhrP5q"
      },
      "execution_count": null,
      "outputs": []
    },
    {
      "cell_type": "code",
      "source": [
        "xtrain_glove.shape"
      ],
      "metadata": {
        "colab": {
          "base_uri": "https://localhost:8080/"
        },
        "id": "x38JrVBGZV71",
        "outputId": "91c834b8-b9e9-4cd9-f3d7-ec36708eebae"
      },
      "execution_count": null,
      "outputs": [
        {
          "output_type": "execute_result",
          "data": {
            "text/plain": [
              "(17621, 300)"
            ]
          },
          "metadata": {},
          "execution_count": 276
        }
      ]
    },
    {
      "cell_type": "code",
      "source": [
        "xtrain_glove[0].shape"
      ],
      "metadata": {
        "colab": {
          "base_uri": "https://localhost:8080/"
        },
        "id": "zMmHxKdtELJ_",
        "outputId": "f906d7dc-1ba0-4297-b177-0d79572650fe"
      },
      "execution_count": null,
      "outputs": [
        {
          "output_type": "execute_result",
          "data": {
            "text/plain": [
              "(300,)"
            ]
          },
          "metadata": {},
          "execution_count": 252
        }
      ]
    },
    {
      "cell_type": "code",
      "source": [
        "scl = preprocessing.StandardScaler()\n",
        "xtrain_glove_scl = scl.fit_transform(xtrain_glove)\n",
        "xvalid_glove_scl = scl.transform(xvalid_glove)"
      ],
      "metadata": {
        "id": "fpsHngaRrlwv"
      },
      "execution_count": null,
      "outputs": []
    },
    {
      "cell_type": "code",
      "source": [
        "ytrain_enc = np_utils.to_categorical(ytrain)\n",
        "yvalid_enc = np_utils.to_categorical(yvalid)"
      ],
      "metadata": {
        "id": "Mvxdj4c0roS4"
      },
      "execution_count": null,
      "outputs": []
    },
    {
      "cell_type": "code",
      "source": [
        "# create a simple 3 layer sequential neural net\n",
        "model = Sequential()\n",
        "\n",
        "model.add(Dense(300, input_dim=300, activation='relu'))\n",
        "model.add(Dropout(0.2))\n",
        "model.add(BatchNormalization())\n",
        "\n",
        "model.add(Dense(300, activation='relu'))\n",
        "model.add(Dropout(0.3))\n",
        "model.add(BatchNormalization())\n",
        "\n",
        "model.add(Dense(3))\n",
        "model.add(Activation('softmax'))\n",
        "\n",
        "# compile the model\n",
        "model.compile(loss='categorical_crossentropy', optimizer='adam', metrics=['accuracy'])\n",
        "earlystop = EarlyStopping(monitor='val_loss', min_delta=0, patience=3, verbose=0, mode='auto')\n"
      ],
      "metadata": {
        "id": "5OraToI-rrS4"
      },
      "execution_count": null,
      "outputs": []
    },
    {
      "cell_type": "code",
      "source": [
        "model.summary()"
      ],
      "metadata": {
        "colab": {
          "base_uri": "https://localhost:8080/"
        },
        "id": "ZlyVXno-JlKs",
        "outputId": "5b7b094d-c870-4795-a460-d46839275251"
      },
      "execution_count": null,
      "outputs": [
        {
          "output_type": "stream",
          "name": "stdout",
          "text": [
            "Model: \"sequential_9\"\n",
            "_________________________________________________________________\n",
            " Layer (type)                Output Shape              Param #   \n",
            "=================================================================\n",
            " dense_27 (Dense)            (None, 300)               90300     \n",
            "                                                                 \n",
            " dropout_18 (Dropout)        (None, 300)               0         \n",
            "                                                                 \n",
            " batch_normalization_6 (Batc  (None, 300)              1200      \n",
            " hNormalization)                                                 \n",
            "                                                                 \n",
            " dense_28 (Dense)            (None, 300)               90300     \n",
            "                                                                 \n",
            " dropout_19 (Dropout)        (None, 300)               0         \n",
            "                                                                 \n",
            " batch_normalization_7 (Batc  (None, 300)              1200      \n",
            " hNormalization)                                                 \n",
            "                                                                 \n",
            " dense_29 (Dense)            (None, 3)                 903       \n",
            "                                                                 \n",
            " activation_9 (Activation)   (None, 3)                 0         \n",
            "                                                                 \n",
            "=================================================================\n",
            "Total params: 183,903\n",
            "Trainable params: 182,703\n",
            "Non-trainable params: 1,200\n",
            "_________________________________________________________________\n"
          ]
        }
      ]
    },
    {
      "cell_type": "code",
      "source": [
        "model.fit(xtrain_glove_scl, y=ytrain_enc, batch_size=128, \n",
        "          epochs=100, verbose=1, \n",
        "          validation_data=(xvalid_glove_scl, yvalid_enc), callbacks=[earlystop])"
      ],
      "metadata": {
        "colab": {
          "base_uri": "https://localhost:8080/"
        },
        "id": "ir9XtuGQsHdz",
        "outputId": "15d89701-01f2-4c3e-fcd9-57e4e9f7e9b3"
      },
      "execution_count": null,
      "outputs": [
        {
          "output_type": "stream",
          "name": "stdout",
          "text": [
            "Epoch 1/100\n",
            "138/138 [==============================] - 1s 8ms/step - loss: 0.0571 - accuracy: 0.9793 - val_loss: 1.3099 - val_accuracy: 0.7329\n",
            "Epoch 2/100\n",
            "138/138 [==============================] - 1s 9ms/step - loss: 0.0599 - accuracy: 0.9789 - val_loss: 1.2922 - val_accuracy: 0.7482\n",
            "Epoch 3/100\n",
            "138/138 [==============================] - 1s 8ms/step - loss: 0.0665 - accuracy: 0.9773 - val_loss: 1.2877 - val_accuracy: 0.7303\n",
            "Epoch 4/100\n",
            "138/138 [==============================] - 1s 5ms/step - loss: 0.0648 - accuracy: 0.9772 - val_loss: 1.2941 - val_accuracy: 0.7360\n",
            "Epoch 5/100\n",
            "138/138 [==============================] - 1s 5ms/step - loss: 0.0561 - accuracy: 0.9809 - val_loss: 1.2717 - val_accuracy: 0.7400\n",
            "Epoch 6/100\n",
            "138/138 [==============================] - 1s 5ms/step - loss: 0.0568 - accuracy: 0.9805 - val_loss: 1.2596 - val_accuracy: 0.7329\n",
            "Epoch 7/100\n",
            "138/138 [==============================] - 1s 5ms/step - loss: 0.0561 - accuracy: 0.9802 - val_loss: 1.3142 - val_accuracy: 0.7370\n",
            "Epoch 8/100\n",
            "138/138 [==============================] - 1s 5ms/step - loss: 0.0540 - accuracy: 0.9808 - val_loss: 1.2717 - val_accuracy: 0.7319\n",
            "Epoch 9/100\n",
            "138/138 [==============================] - 1s 8ms/step - loss: 0.0530 - accuracy: 0.9810 - val_loss: 1.3057 - val_accuracy: 0.7395\n"
          ]
        },
        {
          "output_type": "execute_result",
          "data": {
            "text/plain": [
              "<keras.callbacks.History at 0x7f8d3d10e350>"
            ]
          },
          "metadata": {},
          "execution_count": 256
        }
      ]
    },
    {
      "cell_type": "code",
      "source": [
        "model.evaluate(xvalid_glove_scl, yvalid_enc)"
      ],
      "metadata": {
        "colab": {
          "base_uri": "https://localhost:8080/"
        },
        "id": "MVvdv12YC_YF",
        "outputId": "c673b660-fc23-43d9-f6da-60c10ac620fb"
      },
      "execution_count": null,
      "outputs": [
        {
          "output_type": "stream",
          "name": "stdout",
          "text": [
            "62/62 [==============================] - 0s 3ms/step - loss: 0.6556 - accuracy: 0.7431\n"
          ]
        },
        {
          "output_type": "execute_result",
          "data": {
            "text/plain": [
              "[0.6556088328361511, 0.7431052327156067]"
            ]
          },
          "metadata": {},
          "execution_count": 241
        }
      ]
    },
    {
      "cell_type": "code",
      "source": [
        "# using keras tokenizer here\n",
        "token = text.Tokenizer(num_words=None)\n",
        "max_len = 70\n",
        "\n",
        "token.fit_on_texts(list(xtrain) + list(xvalid))\n",
        "xtrain_seq = token.texts_to_sequences(xtrain)\n",
        "xvalid_seq = token.texts_to_sequences(xvalid)\n",
        "\n",
        "# zero pad the sequences\n",
        "xtrain_pad = pad_sequences(xtrain_seq, maxlen=max_len)\n",
        "xvalid_pad = pad_sequences(xvalid_seq, maxlen=max_len)\n",
        "\n",
        "word_index = token.word_index"
      ],
      "metadata": {
        "id": "47rDtgG1sKzB"
      },
      "execution_count": null,
      "outputs": []
    },
    {
      "cell_type": "code",
      "source": [
        "len(xtrain_seq[0])"
      ],
      "metadata": {
        "colab": {
          "base_uri": "https://localhost:8080/"
        },
        "id": "hKV8c_zcHI37",
        "outputId": "622ccf9d-d906-430b-b47f-a3629bca445f"
      },
      "execution_count": null,
      "outputs": [
        {
          "output_type": "execute_result",
          "data": {
            "text/plain": [
              "24"
            ]
          },
          "metadata": {},
          "execution_count": 263
        }
      ]
    },
    {
      "cell_type": "code",
      "source": [
        "len(xtrain_seq[1])"
      ],
      "metadata": {
        "colab": {
          "base_uri": "https://localhost:8080/"
        },
        "id": "6zG_0J-dFwqQ",
        "outputId": "d147ae13-9f35-4675-bca1-3a09ee102381"
      },
      "execution_count": null,
      "outputs": [
        {
          "output_type": "execute_result",
          "data": {
            "text/plain": [
              "17"
            ]
          },
          "metadata": {},
          "execution_count": 261
        }
      ]
    },
    {
      "cell_type": "code",
      "source": [
        "xtrain_pad[0].shape"
      ],
      "metadata": {
        "colab": {
          "base_uri": "https://localhost:8080/"
        },
        "id": "f-yYDuj2Hulo",
        "outputId": "0a06e3f0-f8a5-4e44-e7ab-5020f293a66f"
      },
      "execution_count": null,
      "outputs": [
        {
          "output_type": "execute_result",
          "data": {
            "text/plain": [
              "(70,)"
            ]
          },
          "metadata": {},
          "execution_count": 265
        }
      ]
    },
    {
      "cell_type": "code",
      "source": [
        "# create an embedding matrix for the words we have in the dataset\n",
        "embedding_matrix = np.zeros((len(word_index) + 1, 300))\n",
        "for word, i in tqdm(word_index.items()):\n",
        "    embedding_vector =  embeddings_index.get(word)\n",
        "    if embedding_vector is not None:\n",
        "        embedding_matrix[i] = embedding_vector"
      ],
      "metadata": {
        "colab": {
          "base_uri": "https://localhost:8080/"
        },
        "id": "Mmdc8ooTshV4",
        "outputId": "c990b953-b859-4f70-d2b3-215fb7417c73"
      },
      "execution_count": null,
      "outputs": [
        {
          "output_type": "stream",
          "name": "stderr",
          "text": [
            "\n",
            "100%|██████████| 25943/25943 [00:00<00:00, 263337.33it/s]\n"
          ]
        }
      ]
    },
    {
      "cell_type": "code",
      "source": [
        "# A simple LSTM with glove embeddings and two dense layers\n",
        "model = Sequential()\n",
        "model.add(Embedding(len(word_index) + 1,\n",
        "                     300,\n",
        "                     weights=[embedding_matrix],\n",
        "                     input_length=max_len,\n",
        "                     trainable=False))\n",
        "model.add(SpatialDropout1D(0.3))\n",
        "model.add(LSTM(100, dropout=0.3, recurrent_dropout=0.3))\n",
        "\n",
        "model.add(Dense(1024, activation='relu'))\n",
        "model.add(Dropout(0.8))\n",
        "\n",
        "model.add(Dense(1024, activation='relu'))\n",
        "model.add(Dropout(0.8))\n",
        "\n",
        "model.add(Dense(3))\n",
        "model.add(Activation('softmax'))\n",
        "model.compile(loss='categorical_crossentropy', optimizer='adam', metrics=['accuracy'])\n",
        "\n",
        "earlystop = EarlyStopping(monitor='val_loss', min_delta=0, patience=3, verbose=0, mode='auto')\n"
      ],
      "metadata": {
        "colab": {
          "base_uri": "https://localhost:8080/"
        },
        "id": "S66FS_ZZtLri",
        "outputId": "745590e1-d316-4812-d37e-2608b44f3dd6"
      },
      "execution_count": null,
      "outputs": [
        {
          "output_type": "stream",
          "name": "stderr",
          "text": [
            "WARNING:tensorflow:Layer lstm_5 will not use cuDNN kernels since it doesn't meet the criteria. It will use a generic GPU kernel as fallback when running on GPU.\n"
          ]
        }
      ]
    },
    {
      "cell_type": "code",
      "source": [
        "model.summary()"
      ],
      "metadata": {
        "colab": {
          "base_uri": "https://localhost:8080/"
        },
        "id": "nY4BbGycJtjD",
        "outputId": "df4ed5c4-886f-4347-bb11-651f0ce27755"
      },
      "execution_count": null,
      "outputs": [
        {
          "output_type": "stream",
          "name": "stdout",
          "text": [
            "Model: \"sequential_10\"\n",
            "_________________________________________________________________\n",
            " Layer (type)                Output Shape              Param #   \n",
            "=================================================================\n",
            " embedding_6 (Embedding)     (None, 70, 300)           7783200   \n",
            "                                                                 \n",
            " spatial_dropout1d_6 (Spatia  (None, 70, 300)          0         \n",
            " lDropout1D)                                                     \n",
            "                                                                 \n",
            " lstm_5 (LSTM)               (None, 100)               160400    \n",
            "                                                                 \n",
            " dense_30 (Dense)            (None, 1024)              103424    \n",
            "                                                                 \n",
            " dropout_20 (Dropout)        (None, 1024)              0         \n",
            "                                                                 \n",
            " dense_31 (Dense)            (None, 1024)              1049600   \n",
            "                                                                 \n",
            " dropout_21 (Dropout)        (None, 1024)              0         \n",
            "                                                                 \n",
            " dense_32 (Dense)            (None, 3)                 3075      \n",
            "                                                                 \n",
            " activation_10 (Activation)  (None, 3)                 0         \n",
            "                                                                 \n",
            "=================================================================\n",
            "Total params: 9,099,699\n",
            "Trainable params: 1,316,499\n",
            "Non-trainable params: 7,783,200\n",
            "_________________________________________________________________\n"
          ]
        }
      ]
    },
    {
      "cell_type": "code",
      "source": [
        "model.fit(xtrain_pad, y=ytrain_enc, batch_size=512, epochs=100, \n",
        "          verbose=1, validation_data=(xvalid_pad, yvalid_enc), callbacks=[earlystop])"
      ],
      "metadata": {
        "colab": {
          "base_uri": "https://localhost:8080/"
        },
        "id": "L68sIkC6tQjQ",
        "outputId": "76150a19-6d3e-4e37-ca59-b1baef5ed83d"
      },
      "execution_count": null,
      "outputs": [
        {
          "output_type": "stream",
          "name": "stdout",
          "text": [
            "Epoch 1/100\n",
            "35/35 [==============================] - 14s 319ms/step - loss: 1.0599 - accuracy: 0.4341 - val_loss: 0.9224 - val_accuracy: 0.5822\n",
            "Epoch 2/100\n",
            "35/35 [==============================] - 11s 315ms/step - loss: 0.8942 - accuracy: 0.5901 - val_loss: 0.7474 - val_accuracy: 0.6936\n",
            "Epoch 3/100\n",
            "35/35 [==============================] - 11s 308ms/step - loss: 0.8166 - accuracy: 0.6439 - val_loss: 0.6989 - val_accuracy: 0.7094\n",
            "Epoch 4/100\n",
            "35/35 [==============================] - 11s 314ms/step - loss: 0.7923 - accuracy: 0.6584 - val_loss: 0.6974 - val_accuracy: 0.7201\n",
            "Epoch 5/100\n",
            "35/35 [==============================] - 14s 406ms/step - loss: 0.7635 - accuracy: 0.6744 - val_loss: 0.6658 - val_accuracy: 0.7324\n",
            "Epoch 6/100\n",
            "35/35 [==============================] - 11s 310ms/step - loss: 0.7451 - accuracy: 0.6829 - val_loss: 0.6454 - val_accuracy: 0.7360\n",
            "Epoch 7/100\n",
            "35/35 [==============================] - 11s 315ms/step - loss: 0.7212 - accuracy: 0.6941 - val_loss: 0.6355 - val_accuracy: 0.7411\n",
            "Epoch 8/100\n",
            "35/35 [==============================] - 11s 314ms/step - loss: 0.7033 - accuracy: 0.7054 - val_loss: 0.6256 - val_accuracy: 0.7528\n",
            "Epoch 9/100\n",
            "35/35 [==============================] - 11s 306ms/step - loss: 0.6842 - accuracy: 0.7130 - val_loss: 0.6085 - val_accuracy: 0.7600\n",
            "Epoch 10/100\n",
            "35/35 [==============================] - 11s 313ms/step - loss: 0.6616 - accuracy: 0.7208 - val_loss: 0.5987 - val_accuracy: 0.7574\n",
            "Epoch 11/100\n",
            "35/35 [==============================] - 11s 312ms/step - loss: 0.6402 - accuracy: 0.7336 - val_loss: 0.5852 - val_accuracy: 0.7702\n",
            "Epoch 12/100\n",
            "35/35 [==============================] - 11s 312ms/step - loss: 0.6144 - accuracy: 0.7462 - val_loss: 0.5762 - val_accuracy: 0.7840\n",
            "Epoch 13/100\n",
            "35/35 [==============================] - 11s 305ms/step - loss: 0.6092 - accuracy: 0.7469 - val_loss: 0.5753 - val_accuracy: 0.7681\n",
            "Epoch 14/100\n",
            "35/35 [==============================] - 11s 311ms/step - loss: 0.5918 - accuracy: 0.7542 - val_loss: 0.5533 - val_accuracy: 0.7855\n",
            "Epoch 15/100\n",
            "35/35 [==============================] - 11s 315ms/step - loss: 0.5697 - accuracy: 0.7656 - val_loss: 0.5475 - val_accuracy: 0.7860\n",
            "Epoch 16/100\n",
            "35/35 [==============================] - 11s 316ms/step - loss: 0.5510 - accuracy: 0.7745 - val_loss: 0.5339 - val_accuracy: 0.7875\n",
            "Epoch 17/100\n",
            "35/35 [==============================] - 11s 316ms/step - loss: 0.5411 - accuracy: 0.7792 - val_loss: 0.5255 - val_accuracy: 0.7860\n",
            "Epoch 18/100\n",
            "35/35 [==============================] - 11s 315ms/step - loss: 0.5357 - accuracy: 0.7820 - val_loss: 0.5355 - val_accuracy: 0.7870\n",
            "Epoch 19/100\n",
            "35/35 [==============================] - 11s 308ms/step - loss: 0.5187 - accuracy: 0.7855 - val_loss: 0.5386 - val_accuracy: 0.7865\n",
            "Epoch 20/100\n",
            "35/35 [==============================] - 11s 310ms/step - loss: 0.5029 - accuracy: 0.7972 - val_loss: 0.5141 - val_accuracy: 0.7993\n",
            "Epoch 21/100\n",
            "35/35 [==============================] - 11s 317ms/step - loss: 0.5041 - accuracy: 0.7951 - val_loss: 0.5281 - val_accuracy: 0.7932\n",
            "Epoch 22/100\n",
            "35/35 [==============================] - 11s 311ms/step - loss: 0.4889 - accuracy: 0.8029 - val_loss: 0.5398 - val_accuracy: 0.7967\n",
            "Epoch 23/100\n",
            "35/35 [==============================] - 11s 308ms/step - loss: 0.4759 - accuracy: 0.8077 - val_loss: 0.5078 - val_accuracy: 0.7962\n",
            "Epoch 24/100\n",
            "35/35 [==============================] - 11s 312ms/step - loss: 0.4769 - accuracy: 0.8038 - val_loss: 0.5158 - val_accuracy: 0.7978\n",
            "Epoch 25/100\n",
            "35/35 [==============================] - 11s 306ms/step - loss: 0.4597 - accuracy: 0.8143 - val_loss: 0.5078 - val_accuracy: 0.8034\n",
            "Epoch 26/100\n",
            "35/35 [==============================] - 11s 311ms/step - loss: 0.4510 - accuracy: 0.8195 - val_loss: 0.5164 - val_accuracy: 0.8003\n"
          ]
        },
        {
          "output_type": "execute_result",
          "data": {
            "text/plain": [
              "<keras.callbacks.History at 0x7f8d22cd1150>"
            ]
          },
          "metadata": {},
          "execution_count": 235
        }
      ]
    },
    {
      "cell_type": "code",
      "source": [
        "model.evaluate(xvalid_pad, yvalid_enc)"
      ],
      "metadata": {
        "colab": {
          "base_uri": "https://localhost:8080/"
        },
        "id": "PWNGQ-zytpNs",
        "outputId": "8a6692c2-fd23-4917-e5ad-67bf38139d6e"
      },
      "execution_count": null,
      "outputs": [
        {
          "output_type": "stream",
          "name": "stdout",
          "text": [
            "62/62 [==============================] - 1s 23ms/step - loss: 0.5164 - accuracy: 0.8003\n"
          ]
        },
        {
          "output_type": "execute_result",
          "data": {
            "text/plain": [
              "[0.5164366364479065, 0.8003064393997192]"
            ]
          },
          "metadata": {},
          "execution_count": 236
        }
      ]
    },
    {
      "cell_type": "code",
      "source": [
        "# GRU with glove embeddings and two dense layers\n",
        "model = Sequential()\n",
        "model.add(Embedding(len(word_index) + 1,\n",
        "                     300,\n",
        "                     weights=[embedding_matrix],\n",
        "                     input_length=max_len,\n",
        "                     trainable=False))\n",
        "model.add(SpatialDropout1D(0.3))\n",
        "model.add(GRU(300, dropout=0.3, recurrent_dropout=0.3, return_sequences=True))\n",
        "model.add(GRU(300, dropout=0.3, recurrent_dropout=0.3))\n",
        "\n",
        "model.add(Dense(1024, activation='relu'))\n",
        "model.add(Dropout(0.8))\n",
        "\n",
        "model.add(Dense(1024, activation='relu'))\n",
        "model.add(Dropout(0.8))\n",
        "\n",
        "model.add(Dense(3))\n",
        "model.add(Activation('softmax'))\n",
        "model.compile(loss='categorical_crossentropy', optimizer='adam', metrics=['accuracy'])"
      ],
      "metadata": {
        "colab": {
          "base_uri": "https://localhost:8080/"
        },
        "id": "fihvaMT0J5M-",
        "outputId": "c595b286-36eb-4f6a-8bdd-d6f8c9f44956"
      },
      "execution_count": null,
      "outputs": [
        {
          "output_type": "stream",
          "name": "stderr",
          "text": [
            "WARNING:tensorflow:Layer gru_2 will not use cuDNN kernels since it doesn't meet the criteria. It will use a generic GPU kernel as fallback when running on GPU.\n",
            "WARNING:tensorflow:Layer gru_3 will not use cuDNN kernels since it doesn't meet the criteria. It will use a generic GPU kernel as fallback when running on GPU.\n"
          ]
        }
      ]
    },
    {
      "cell_type": "code",
      "source": [
        "model.summary()"
      ],
      "metadata": {
        "colab": {
          "base_uri": "https://localhost:8080/"
        },
        "id": "DJqUyrTOJ6E8",
        "outputId": "55f900be-4abd-437a-ce87-b776154abdf3"
      },
      "execution_count": null,
      "outputs": [
        {
          "output_type": "stream",
          "name": "stdout",
          "text": [
            "Model: \"sequential_11\"\n",
            "_________________________________________________________________\n",
            " Layer (type)                Output Shape              Param #   \n",
            "=================================================================\n",
            " embedding_7 (Embedding)     (None, 70, 300)           7783200   \n",
            "                                                                 \n",
            " spatial_dropout1d_7 (Spatia  (None, 70, 300)          0         \n",
            " lDropout1D)                                                     \n",
            "                                                                 \n",
            " gru_2 (GRU)                 (None, 70, 300)           541800    \n",
            "                                                                 \n",
            " gru_3 (GRU)                 (None, 300)               541800    \n",
            "                                                                 \n",
            " dense_33 (Dense)            (None, 1024)              308224    \n",
            "                                                                 \n",
            " dropout_22 (Dropout)        (None, 1024)              0         \n",
            "                                                                 \n",
            " dense_34 (Dense)            (None, 1024)              1049600   \n",
            "                                                                 \n",
            " dropout_23 (Dropout)        (None, 1024)              0         \n",
            "                                                                 \n",
            " dense_35 (Dense)            (None, 3)                 3075      \n",
            "                                                                 \n",
            " activation_11 (Activation)  (None, 3)                 0         \n",
            "                                                                 \n",
            "=================================================================\n",
            "Total params: 10,227,699\n",
            "Trainable params: 2,444,499\n",
            "Non-trainable params: 7,783,200\n",
            "_________________________________________________________________\n"
          ]
        }
      ]
    },
    {
      "cell_type": "code",
      "source": [
        "# Fit the model with early stopping callback\n",
        "earlystop = EarlyStopping(monitor='val_loss', min_delta=0, patience=3, verbose=0, mode='auto')\n",
        "model.fit(xtrain_pad, y=ytrain_enc, batch_size=512, epochs=100, \n",
        "          verbose=1, validation_data=(xvalid_pad, yvalid_enc), callbacks=[earlystop])"
      ],
      "metadata": {
        "colab": {
          "base_uri": "https://localhost:8080/"
        },
        "id": "XM9IT55zwF7j",
        "outputId": "adc8bad7-c2c4-4031-ad63-61c819516f65"
      },
      "execution_count": null,
      "outputs": [
        {
          "output_type": "stream",
          "name": "stderr",
          "text": [
            "WARNING:tensorflow:Layer gru will not use cuDNN kernels since it doesn't meet the criteria. It will use a generic GPU kernel as fallback when running on GPU.\n",
            "WARNING:tensorflow:Layer gru_1 will not use cuDNN kernels since it doesn't meet the criteria. It will use a generic GPU kernel as fallback when running on GPU.\n"
          ]
        },
        {
          "output_type": "stream",
          "name": "stdout",
          "text": [
            "Epoch 1/100\n",
            "35/35 [==============================] - 44s 627ms/step - loss: 1.0539 - accuracy: 0.4417 - val_loss: 0.8959 - val_accuracy: 0.5889\n",
            "Epoch 2/100\n",
            "35/35 [==============================] - 22s 627ms/step - loss: 0.8982 - accuracy: 0.5957 - val_loss: 0.7655 - val_accuracy: 0.6782\n",
            "Epoch 3/100\n",
            "35/35 [==============================] - 21s 607ms/step - loss: 0.8273 - accuracy: 0.6403 - val_loss: 0.7293 - val_accuracy: 0.7160\n",
            "Epoch 4/100\n",
            "35/35 [==============================] - 23s 651ms/step - loss: 0.7976 - accuracy: 0.6580 - val_loss: 0.7194 - val_accuracy: 0.7074\n",
            "Epoch 5/100\n",
            "35/35 [==============================] - 22s 618ms/step - loss: 0.7708 - accuracy: 0.6721 - val_loss: 0.7097 - val_accuracy: 0.7160\n",
            "Epoch 6/100\n",
            "35/35 [==============================] - 21s 609ms/step - loss: 0.7529 - accuracy: 0.6794 - val_loss: 0.6982 - val_accuracy: 0.7120\n",
            "Epoch 7/100\n",
            "35/35 [==============================] - 21s 610ms/step - loss: 0.7248 - accuracy: 0.6968 - val_loss: 0.6573 - val_accuracy: 0.7344\n",
            "Epoch 8/100\n",
            "35/35 [==============================] - 21s 613ms/step - loss: 0.6900 - accuracy: 0.7162 - val_loss: 0.6500 - val_accuracy: 0.7549\n",
            "Epoch 9/100\n",
            "35/35 [==============================] - 21s 605ms/step - loss: 0.6627 - accuracy: 0.7229 - val_loss: 0.6195 - val_accuracy: 0.7462\n",
            "Epoch 10/100\n",
            "35/35 [==============================] - 21s 603ms/step - loss: 0.6495 - accuracy: 0.7295 - val_loss: 0.5887 - val_accuracy: 0.7666\n",
            "Epoch 11/100\n",
            "35/35 [==============================] - 21s 606ms/step - loss: 0.6241 - accuracy: 0.7417 - val_loss: 0.5989 - val_accuracy: 0.7579\n",
            "Epoch 12/100\n",
            "35/35 [==============================] - 21s 608ms/step - loss: 0.6067 - accuracy: 0.7480 - val_loss: 0.5637 - val_accuracy: 0.7717\n",
            "Epoch 13/100\n",
            "35/35 [==============================] - 21s 608ms/step - loss: 0.5880 - accuracy: 0.7567 - val_loss: 0.5637 - val_accuracy: 0.7768\n",
            "Epoch 14/100\n",
            "35/35 [==============================] - 21s 609ms/step - loss: 0.5694 - accuracy: 0.7685 - val_loss: 0.5503 - val_accuracy: 0.7870\n",
            "Epoch 15/100\n",
            "35/35 [==============================] - 21s 612ms/step - loss: 0.5520 - accuracy: 0.7742 - val_loss: 0.5347 - val_accuracy: 0.7799\n",
            "Epoch 16/100\n",
            "35/35 [==============================] - 21s 612ms/step - loss: 0.5317 - accuracy: 0.7830 - val_loss: 0.5205 - val_accuracy: 0.7865\n",
            "Epoch 17/100\n",
            "35/35 [==============================] - 21s 605ms/step - loss: 0.5180 - accuracy: 0.7907 - val_loss: 0.5026 - val_accuracy: 0.7972\n",
            "Epoch 18/100\n",
            "35/35 [==============================] - 21s 614ms/step - loss: 0.5031 - accuracy: 0.7980 - val_loss: 0.5115 - val_accuracy: 0.7988\n",
            "Epoch 19/100\n",
            "35/35 [==============================] - 21s 614ms/step - loss: 0.5032 - accuracy: 0.7969 - val_loss: 0.5406 - val_accuracy: 0.7737\n",
            "Epoch 20/100\n",
            "35/35 [==============================] - 22s 633ms/step - loss: 0.5017 - accuracy: 0.7941 - val_loss: 0.4937 - val_accuracy: 0.8069\n",
            "Epoch 21/100\n",
            "35/35 [==============================] - 22s 623ms/step - loss: 0.4606 - accuracy: 0.8144 - val_loss: 0.4978 - val_accuracy: 0.7972\n",
            "Epoch 22/100\n",
            "35/35 [==============================] - 21s 609ms/step - loss: 0.4480 - accuracy: 0.8185 - val_loss: 0.4782 - val_accuracy: 0.8126\n",
            "Epoch 23/100\n",
            "35/35 [==============================] - 22s 621ms/step - loss: 0.4350 - accuracy: 0.8268 - val_loss: 0.4746 - val_accuracy: 0.8069\n",
            "Epoch 24/100\n",
            "35/35 [==============================] - 22s 619ms/step - loss: 0.4201 - accuracy: 0.8310 - val_loss: 0.4674 - val_accuracy: 0.8136\n",
            "Epoch 25/100\n",
            "35/35 [==============================] - 22s 618ms/step - loss: 0.4182 - accuracy: 0.8339 - val_loss: 0.4758 - val_accuracy: 0.8054\n",
            "Epoch 26/100\n",
            "35/35 [==============================] - 22s 619ms/step - loss: 0.4088 - accuracy: 0.8361 - val_loss: 0.4625 - val_accuracy: 0.8177\n",
            "Epoch 27/100\n",
            "35/35 [==============================] - 22s 616ms/step - loss: 0.3987 - accuracy: 0.8396 - val_loss: 0.4652 - val_accuracy: 0.8166\n",
            "Epoch 28/100\n",
            "35/35 [==============================] - 22s 620ms/step - loss: 0.3836 - accuracy: 0.8511 - val_loss: 0.4781 - val_accuracy: 0.8075\n",
            "Epoch 29/100\n",
            "35/35 [==============================] - 22s 627ms/step - loss: 0.3803 - accuracy: 0.8496 - val_loss: 0.4654 - val_accuracy: 0.8151\n"
          ]
        },
        {
          "output_type": "execute_result",
          "data": {
            "text/plain": [
              "<keras.callbacks.History at 0x7f8d0e3d3b10>"
            ]
          },
          "metadata": {},
          "execution_count": 237
        }
      ]
    },
    {
      "cell_type": "code",
      "source": [
        "model.evaluate(xvalid_pad, yvalid_enc)"
      ],
      "metadata": {
        "colab": {
          "base_uri": "https://localhost:8080/"
        },
        "id": "qcIfWY1SytAb",
        "outputId": "54705adf-b346-495a-f65a-f3686b9e383b"
      },
      "execution_count": null,
      "outputs": [
        {
          "output_type": "stream",
          "name": "stdout",
          "text": [
            "62/62 [==============================] - 5s 83ms/step - loss: 0.4654 - accuracy: 0.8151\n"
          ]
        },
        {
          "output_type": "execute_result",
          "data": {
            "text/plain": [
              "[0.4653916358947754, 0.8151174783706665]"
            ]
          },
          "metadata": {},
          "execution_count": 238
        }
      ]
    },
    {
      "cell_type": "code",
      "source": [],
      "metadata": {
        "id": "6eflfyHS1uUu"
      },
      "execution_count": null,
      "outputs": []
    }
  ]
}