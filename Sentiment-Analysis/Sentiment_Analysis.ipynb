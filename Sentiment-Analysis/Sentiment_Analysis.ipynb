{
  "nbformat": 4,
  "nbformat_minor": 0,
  "metadata": {
    "colab": {
      "provenance": []
    },
    "kernelspec": {
      "name": "python3",
      "display_name": "Python 3"
    },
    "language_info": {
      "name": "python"
    },
    "accelerator": "GPU",
    "gpuClass": "standard"
  },
  "cells": [
    {
      "cell_type": "code",
      "execution_count": null,
      "metadata": {
        "id": "8J-j4cykXWIa",
        "colab": {
          "base_uri": "https://localhost:8080/"
        },
        "outputId": "a45ac4eb-3ebd-4b6f-cd4c-ba72735893a9"
      },
      "outputs": [
        {
          "output_type": "stream",
          "name": "stdout",
          "text": [
            "Drive already mounted at /content/drive; to attempt to forcibly remount, call drive.mount(\"/content/drive\", force_remount=True).\n"
          ]
        }
      ],
      "source": [
        "from google.colab import drive\n",
        "drive.mount('/content/drive')"
      ]
    },
    {
      "cell_type": "code",
      "source": [
        "%cd drive/MyDrive/Colab Notebooks/sentiment analysis"
      ],
      "metadata": {
        "id": "MJ0Lga8xdx-7",
        "colab": {
          "base_uri": "https://localhost:8080/"
        },
        "outputId": "d257bc61-2dfc-40b8-fc74-7897821c6e82"
      },
      "execution_count": null,
      "outputs": [
        {
          "output_type": "stream",
          "name": "stdout",
          "text": [
            "/content/drive/MyDrive/Colab Notebooks/sentiment analysis\n"
          ]
        }
      ]
    },
    {
      "cell_type": "code",
      "source": [
        "import pandas as pd\n",
        "import numpy as np"
      ],
      "metadata": {
        "id": "QnJbTjpx17WB"
      },
      "execution_count": null,
      "outputs": []
    },
    {
      "cell_type": "markdown",
      "source": [
        "#LSTM"
      ],
      "metadata": {
        "id": "Omo9didKouXf"
      }
    },
    {
      "cell_type": "code",
      "source": [
        "import pandas as pd\n",
        "import numpy as np\n",
        "import matplotlib.pyplot as plt\n",
        "\n",
        "from keras.preprocessing.text import Tokenizer\n",
        "from keras_preprocessing.sequence import pad_sequences\n",
        "\n",
        "# Pytorch Imports\n",
        "import torch\n",
        "import torch.nn as nn\n",
        "import torch.utils.data\n",
        "from torch.autograd import Variable\n",
        "\n",
        "import time\n",
        "\n",
        "from sklearn.model_selection import StratifiedKFold\n",
        "from sklearn.metrics import f1_score,classification_report,accuracy_score,confusion_matrix,mean_absolute_error,mean_squared_error\n",
        "from sklearn.model_selection import train_test_split\n",
        "\n",
        "from keras.models import Sequential\n",
        "from tensorflow.keras.layers import LSTM, GRU, Embedding, BatchNormalization\n",
        "from keras.layers.core import Dense, Activation, Dropout\n",
        "from keras.utils import np_utils\n",
        "from keras.layers import GlobalMaxPooling1D, Conv1D, MaxPooling1D, Flatten, Bidirectional, SpatialDropout1D\n",
        "from keras.preprocessing import text\n",
        "from keras_preprocessing.sequence import pad_sequences\n",
        "from keras.callbacks import EarlyStopping\n",
        "\n",
        "from nltk import word_tokenize\n",
        "from nltk.corpus import stopwords\n",
        "\n",
        "import nltk\n",
        "nltk.download('stopwords')\n",
        "stop_words = stopwords.words('english')\n",
        "nltk.download('punkt')\n",
        "\n",
        "from sklearn import preprocessing, decomposition, model_selection, metrics, pipeline\n",
        "\n",
        "from tqdm import tqdm"
      ],
      "metadata": {
        "colab": {
          "base_uri": "https://localhost:8080/"
        },
        "id": "sD5PL5W3o_hZ",
        "outputId": "50fa8652-8e42-41b8-e47c-ce76a215eb84"
      },
      "execution_count": null,
      "outputs": [
        {
          "output_type": "stream",
          "name": "stderr",
          "text": [
            "[nltk_data] Downloading package stopwords to /root/nltk_data...\n",
            "[nltk_data]   Package stopwords is already up-to-date!\n",
            "[nltk_data] Downloading package punkt to /root/nltk_data...\n",
            "[nltk_data]   Package punkt is already up-to-date!\n"
          ]
        }
      ]
    },
    {
      "cell_type": "code",
      "source": [
        "df = pd.read_csv('merged.csv')\n",
        "# modify the ID 1 by 1; exp: imdb, yelp, amz\n",
        "df = df[df['ID']=='Imdb']"
      ],
      "metadata": {
        "id": "YoioYBTOu25P"
      },
      "execution_count": null,
      "outputs": []
    },
    {
      "cell_type": "code",
      "source": [
        "lbl_enc = preprocessing.LabelEncoder()\n",
        "# encode the label to numbers\n",
        "y = lbl_enc.fit_transform(df.New_Label.values)"
      ],
      "metadata": {
        "id": "XRe2OPc0pD_-"
      },
      "execution_count": null,
      "outputs": []
    },
    {
      "cell_type": "code",
      "source": [
        "# train test split\n",
        "xtrain, xvalid, ytrain, yvalid = train_test_split(df.Text.values, y, \n",
        "                                                  stratify=y, \n",
        "                                                  random_state=42, \n",
        "                                                  test_size=0.2, shuffle=True)"
      ],
      "metadata": {
        "id": "8pvmlpGupMEz"
      },
      "execution_count": null,
      "outputs": []
    },
    {
      "cell_type": "code",
      "source": [
        "xtrain.shape"
      ],
      "metadata": {
        "colab": {
          "base_uri": "https://localhost:8080/"
        },
        "id": "tIkGRE54sGZ8",
        "outputId": "fcad9e14-0fb7-4b53-e212-00ac5f20b132"
      },
      "execution_count": null,
      "outputs": [
        {
          "output_type": "execute_result",
          "data": {
            "text/plain": [
              "(800,)"
            ]
          },
          "metadata": {},
          "execution_count": 158
        }
      ]
    },
    {
      "cell_type": "code",
      "source": [
        "# create embedding matrix from glove vectors\n",
        "embeddings_index = {}\n",
        "f = open('../text/glove.840B.300d.txt')\n",
        "for line in tqdm(f):\n",
        "    values = line.split(\" \")\n",
        "    word = values[0]\n",
        "    coefs = np.asarray(values[1:], dtype='float32')\n",
        "    embeddings_index[word] = coefs\n",
        "f.close()\n",
        "\n",
        "print('Found %s word vectors.' % len(embeddings_index))"
      ],
      "metadata": {
        "colab": {
          "base_uri": "https://localhost:8080/"
        },
        "id": "GwQ-naYzpMBw",
        "outputId": "e89fd90e-eeb2-4b8a-c1cb-6dd3b8969cf6"
      },
      "execution_count": null,
      "outputs": [
        {
          "output_type": "stream",
          "name": "stderr",
          "text": [
            "2196017it [02:00, 18162.12it/s]"
          ]
        },
        {
          "output_type": "stream",
          "name": "stdout",
          "text": [
            "Found 2196016 word vectors.\n"
          ]
        },
        {
          "output_type": "stream",
          "name": "stderr",
          "text": [
            "\n"
          ]
        }
      ]
    },
    {
      "cell_type": "code",
      "source": [
        "# convert sentence to vector\n",
        "def sent2vec(s):\n",
        "    #  NLP preprocessing\n",
        "    words = str(s).lower() # lowercase\n",
        "    words = word_tokenize(words) # tokenize word\n",
        "    words = [w for w in words if not w in stop_words] # remove stopwords\n",
        "    words = [w for w in words if w.isalpha()] # only letters and numericals\n",
        "    M = []\n",
        "    for w in words:\n",
        "        try:\n",
        "            M.append(embeddings_index[w])\n",
        "        except:\n",
        "            continue\n",
        "    M = np.array(M)\n",
        "    v = M.sum(axis=0)\n",
        "    if type(v) != np.ndarray:\n",
        "        return np.zeros(300)\n",
        "    return v / np.sqrt((v ** 2).sum())\n"
      ],
      "metadata": {
        "id": "qklOHj8IpL-m"
      },
      "execution_count": null,
      "outputs": []
    },
    {
      "cell_type": "code",
      "source": [
        "# create sentence vectors using the above function for training and validation set\n",
        "xtrain_glove = [sent2vec(x) for x in tqdm(xtrain)]\n",
        "xvalid_glove = [sent2vec(x) for x in tqdm(xvalid)]"
      ],
      "metadata": {
        "colab": {
          "base_uri": "https://localhost:8080/"
        },
        "id": "Dti7pVGxpL7W",
        "outputId": "1935a28e-a12a-4c5f-d1dd-6276366bed07"
      },
      "execution_count": null,
      "outputs": [
        {
          "output_type": "stream",
          "name": "stderr",
          "text": [
            "100%|██████████| 800/800 [00:00<00:00, 3822.63it/s]\n",
            "100%|██████████| 200/200 [00:00<00:00, 4881.89it/s]\n"
          ]
        }
      ]
    },
    {
      "cell_type": "code",
      "source": [
        "# convert to numpy array\n",
        "xtrain_glove = np.array(xtrain_glove)\n",
        "xvalid_glove = np.array(xvalid_glove)"
      ],
      "metadata": {
        "id": "AedG40vYpL4H"
      },
      "execution_count": null,
      "outputs": []
    },
    {
      "cell_type": "code",
      "source": [
        "xtrain_glove.shape"
      ],
      "metadata": {
        "colab": {
          "base_uri": "https://localhost:8080/"
        },
        "id": "V0D6PcchsU_i",
        "outputId": "b9e8ea36-c4cf-4c3b-8e39-460898c42dda"
      },
      "execution_count": null,
      "outputs": [
        {
          "output_type": "execute_result",
          "data": {
            "text/plain": [
              "(800, 300)"
            ]
          },
          "metadata": {},
          "execution_count": 162
        }
      ]
    },
    {
      "cell_type": "code",
      "source": [
        "# scale the values to normal distribution\n",
        "scl = preprocessing.StandardScaler()\n",
        "xtrain_glove_scl = scl.fit_transform(xtrain_glove)\n",
        "xvalid_glove_scl = scl.transform(xvalid_glove)"
      ],
      "metadata": {
        "id": "gm7UgyAapL1B"
      },
      "execution_count": null,
      "outputs": []
    },
    {
      "cell_type": "code",
      "source": [
        "# convert the label to binary class matrix\n",
        "ytrain_enc = np_utils.to_categorical(ytrain)\n",
        "yvalid_enc = np_utils.to_categorical(yvalid)"
      ],
      "metadata": {
        "id": "bBg-j9aBpLx4"
      },
      "execution_count": null,
      "outputs": []
    },
    {
      "cell_type": "code",
      "source": [
        "# using keras tokenizer here\n",
        "token = text.Tokenizer(num_words=None)\n",
        "max_len = 70\n",
        "\n",
        "token.fit_on_texts(list(xtrain) + list(xvalid))\n",
        "xtrain_seq = token.texts_to_sequences(xtrain)\n",
        "xvalid_seq = token.texts_to_sequences(xvalid)\n",
        "\n",
        "# zero pad the sequences to same length \n",
        "xtrain_pad = pad_sequences(xtrain_seq, maxlen=max_len)\n",
        "xvalid_pad = pad_sequences(xvalid_seq, maxlen=max_len)\n",
        "\n",
        "word_index = token.word_index"
      ],
      "metadata": {
        "id": "jJyqoDYWpLu5"
      },
      "execution_count": null,
      "outputs": []
    },
    {
      "cell_type": "code",
      "source": [
        "# create an embedding matrix for the words in the dataset\n",
        "embedding_matrix = np.zeros((len(word_index) + 1, 300))\n",
        "for word, i in tqdm(word_index.items()):\n",
        "    embedding_vector =  embeddings_index.get(word)\n",
        "    if embedding_vector is not None:\n",
        "        embedding_matrix[i] = embedding_vector"
      ],
      "metadata": {
        "colab": {
          "base_uri": "https://localhost:8080/"
        },
        "id": "lGE5sFiEpLr3",
        "outputId": "c61633d8-8872-4f4f-c3c8-839156729f47"
      },
      "execution_count": null,
      "outputs": [
        {
          "output_type": "stream",
          "name": "stderr",
          "text": [
            "100%|██████████| 3130/3130 [00:00<00:00, 338363.66it/s]\n"
          ]
        }
      ]
    },
    {
      "cell_type": "code",
      "source": [
        "xtrain_pad.shape"
      ],
      "metadata": {
        "colab": {
          "base_uri": "https://localhost:8080/"
        },
        "id": "1s6IdJUAr9p9",
        "outputId": "81ab8897-07fc-4eeb-c9a8-670b5639bd90"
      },
      "execution_count": null,
      "outputs": [
        {
          "output_type": "execute_result",
          "data": {
            "text/plain": [
              "(800, 70)"
            ]
          },
          "metadata": {},
          "execution_count": 167
        }
      ]
    },
    {
      "cell_type": "code",
      "source": [
        "# A simple LSTM with glove embeddings and two dense layers\n",
        "model = Sequential()\n",
        "# embedding layer using glove vector\n",
        "model.add(Embedding(len(word_index) + 1,\n",
        "                     300,\n",
        "                     weights=[embedding_matrix],\n",
        "                     input_length=max_len,\n",
        "                     trainable=False))\n",
        "model.add(SpatialDropout1D(0.3))\n",
        "# lstm 1\n",
        "model.add(LSTM(100, dropout=0.3, recurrent_dropout=0.3))\n",
        "\n",
        "# fully connected 1\n",
        "model.add(Dense(512, activation='relu'))\n",
        "model.add(Dropout(0.8))\n",
        "\n",
        "# fully connected 2\n",
        "model.add(Dense(256, activation='relu'))\n",
        "model.add(Dropout(0.8))\n",
        "\n",
        "# output layer\n",
        "model.add(Dense(2))\n",
        "model.add(Activation('softmax'))\n",
        "model.compile(loss='categorical_crossentropy', optimizer='adam', metrics=['accuracy'])\n",
        "\n",
        "# earlystop = EarlyStopping(monitor='val_loss', min_delta=0, patience=3, verbose=0, mode='auto')\n"
      ],
      "metadata": {
        "colab": {
          "base_uri": "https://localhost:8080/"
        },
        "id": "6l9X0h7opLo7",
        "outputId": "a4f1c167-fe0c-485d-db6d-55506e04dbaf"
      },
      "execution_count": null,
      "outputs": [
        {
          "output_type": "stream",
          "name": "stderr",
          "text": [
            "WARNING:tensorflow:Layer lstm_13 will not use cuDNN kernels since it doesn't meet the criteria. It will use a generic GPU kernel as fallback when running on GPU.\n"
          ]
        }
      ]
    },
    {
      "cell_type": "code",
      "source": [
        "history = model.fit(xtrain_pad, y=ytrain_enc, batch_size=64, epochs=20, \n",
        "          verbose=1, validation_data=(xvalid_pad, yvalid_enc))"
      ],
      "metadata": {
        "colab": {
          "base_uri": "https://localhost:8080/"
        },
        "id": "Vfi-7_GzpLl3",
        "outputId": "42db97a0-ee3d-4d84-a7bc-299e4d00e58b"
      },
      "execution_count": null,
      "outputs": [
        {
          "output_type": "stream",
          "name": "stdout",
          "text": [
            "Epoch 1/20\n",
            "13/13 [==============================] - 11s 634ms/step - loss: 0.7369 - accuracy: 0.4975 - val_loss: 0.6832 - val_accuracy: 0.5450\n",
            "Epoch 2/20\n",
            "13/13 [==============================] - 4s 276ms/step - loss: 0.7037 - accuracy: 0.5100 - val_loss: 0.6711 - val_accuracy: 0.6600\n",
            "Epoch 3/20\n",
            "13/13 [==============================] - 4s 288ms/step - loss: 0.6911 - accuracy: 0.5550 - val_loss: 0.6583 - val_accuracy: 0.7100\n",
            "Epoch 4/20\n",
            "13/13 [==============================] - 5s 357ms/step - loss: 0.6657 - accuracy: 0.6000 - val_loss: 0.6302 - val_accuracy: 0.7250\n",
            "Epoch 5/20\n",
            "13/13 [==============================] - 3s 259ms/step - loss: 0.6303 - accuracy: 0.6325 - val_loss: 0.5817 - val_accuracy: 0.7450\n",
            "Epoch 6/20\n",
            "13/13 [==============================] - 4s 270ms/step - loss: 0.5875 - accuracy: 0.6900 - val_loss: 0.5196 - val_accuracy: 0.7550\n",
            "Epoch 7/20\n",
            "13/13 [==============================] - 3s 266ms/step - loss: 0.5503 - accuracy: 0.7400 - val_loss: 0.5467 - val_accuracy: 0.7100\n",
            "Epoch 8/20\n",
            "13/13 [==============================] - 4s 276ms/step - loss: 0.5330 - accuracy: 0.7337 - val_loss: 0.4762 - val_accuracy: 0.7900\n",
            "Epoch 9/20\n",
            "13/13 [==============================] - 3s 266ms/step - loss: 0.4916 - accuracy: 0.7688 - val_loss: 0.5052 - val_accuracy: 0.7600\n",
            "Epoch 10/20\n",
            "13/13 [==============================] - 3s 267ms/step - loss: 0.4861 - accuracy: 0.7750 - val_loss: 0.4960 - val_accuracy: 0.7900\n",
            "Epoch 11/20\n",
            "13/13 [==============================] - 4s 279ms/step - loss: 0.4552 - accuracy: 0.8012 - val_loss: 0.4745 - val_accuracy: 0.7900\n",
            "Epoch 12/20\n",
            "13/13 [==============================] - 3s 266ms/step - loss: 0.4364 - accuracy: 0.7937 - val_loss: 0.5366 - val_accuracy: 0.7600\n",
            "Epoch 13/20\n",
            "13/13 [==============================] - 3s 268ms/step - loss: 0.4588 - accuracy: 0.7950 - val_loss: 0.5050 - val_accuracy: 0.7700\n",
            "Epoch 14/20\n",
            "13/13 [==============================] - 3s 258ms/step - loss: 0.4312 - accuracy: 0.8150 - val_loss: 0.4668 - val_accuracy: 0.7900\n",
            "Epoch 15/20\n",
            "13/13 [==============================] - 3s 264ms/step - loss: 0.4067 - accuracy: 0.8075 - val_loss: 0.4977 - val_accuracy: 0.7900\n",
            "Epoch 16/20\n",
            "13/13 [==============================] - 3s 261ms/step - loss: 0.4226 - accuracy: 0.8150 - val_loss: 0.4826 - val_accuracy: 0.8050\n",
            "Epoch 17/20\n",
            "13/13 [==============================] - 3s 268ms/step - loss: 0.3771 - accuracy: 0.8250 - val_loss: 0.5478 - val_accuracy: 0.7850\n",
            "Epoch 18/20\n",
            "13/13 [==============================] - 3s 255ms/step - loss: 0.4002 - accuracy: 0.8338 - val_loss: 0.5021 - val_accuracy: 0.7750\n",
            "Epoch 19/20\n",
            "13/13 [==============================] - 3s 264ms/step - loss: 0.3951 - accuracy: 0.8238 - val_loss: 0.4880 - val_accuracy: 0.8000\n",
            "Epoch 20/20\n",
            "13/13 [==============================] - 4s 273ms/step - loss: 0.3606 - accuracy: 0.8425 - val_loss: 0.5115 - val_accuracy: 0.7850\n"
          ]
        }
      ]
    },
    {
      "cell_type": "code",
      "source": [
        "def plot_history(history):\n",
        "    acc = history.history['accuracy']\n",
        "    val_acc = history.history['val_accuracy']\n",
        "    loss = history.history['loss']\n",
        "    val_loss = history.history['val_loss']\n",
        "    x = range(1, len(acc) + 1)\n",
        "\n",
        "    plt.figure(figsize=(12, 5))\n",
        "    plt.subplot(1, 2, 1)\n",
        "    plt.plot(x, acc, 'b', label='Training accuracy')\n",
        "    plt.plot(x, val_acc, 'r', label='Validation accuracy')\n",
        "    plt.title('Training and validation accuracy')\n",
        "    plt.legend()\n",
        "    plt.subplot(1, 2, 2)\n",
        "    plt.plot(x, loss, 'b', label='Training loss')\n",
        "    plt.plot(x, val_loss, 'r', label='Validation loss')\n",
        "    plt.title('Training and validation loss')\n",
        "    plt.legend()"
      ],
      "metadata": {
        "id": "ObgFw_3GpLi0"
      },
      "execution_count": null,
      "outputs": []
    },
    {
      "cell_type": "code",
      "source": [
        "plot_history(history)"
      ],
      "metadata": {
        "colab": {
          "base_uri": "https://localhost:8080/",
          "height": 336
        },
        "id": "BEX69e4OtaAZ",
        "outputId": "37057c32-d9d3-44cb-c651-f58aae41a38b"
      },
      "execution_count": null,
      "outputs": [
        {
          "output_type": "display_data",
          "data": {
            "text/plain": [
              "<Figure size 864x360 with 2 Axes>"
            ],
            "image/png": "[encoded data removed]"
          },
          "metadata": {
            "needs_background": "light"
          }
        }
      ]
    },
    {
      "cell_type": "code",
      "source": [
        "lstm_plt = {}\n",
        "lstm_plt['train_loss'] = history.history['loss']\n",
        "lstm_plt['train_acc'] = history.history['accuracy']\n",
        "lstm_plt['test_loss'] = history.history['val_loss']\n",
        "lstm_plt['test_acc'] = history.history['val_accuracy']\n",
        "lstm_plt_df = pd.DataFrame.from_dict(lstm_plt,orient='index').T\n",
        "lstm_plt_df.to_csv('LSTM_new_imdb_result.csv')"
      ],
      "metadata": {
        "id": "6ixnNm9pte7C"
      },
      "execution_count": null,
      "outputs": []
    }
  ]
}